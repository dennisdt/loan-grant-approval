{
 "cells": [
  {
   "cell_type": "markdown",
   "metadata": {},
   "source": [
    "# Predicting Loan Grants"
   ]
  },
  {
   "cell_type": "markdown",
   "metadata": {},
   "source": [
    "## Business Understanding\n",
    "\n",
    "Determine whether or not to grant the loan to the customer based on the likelihood of the loan being repaid"
   ]
  },
  {
   "cell_type": "code",
   "execution_count": 1,
   "metadata": {
    "collapsed": false
   },
   "outputs": [
    {
     "name": "stderr",
     "output_type": "stream",
     "text": [
      "C:\\Users\\Dennis\\Anaconda2\\lib\\site-packages\\IPython\\core\\interactiveshell.py:2723: DtypeWarning: Columns (16) have mixed types. Specify dtype option on import or set low_memory=False.\n",
      "  interactivity=interactivity, compiler=compiler, result=result)\n"
     ]
    },
    {
     "data": {
      "text/html": [
       "<div>\n",
       "<table border=\"1\" class=\"dataframe\">\n",
       "  <thead>\n",
       "    <tr style=\"text-align: right;\">\n",
       "      <th></th>\n",
       "      <th>Loan ID</th>\n",
       "      <th>Customer ID</th>\n",
       "      <th>Loan Status</th>\n",
       "      <th>Current Loan Amount</th>\n",
       "      <th>Term</th>\n",
       "      <th>Credit Score</th>\n",
       "      <th>Years in current job</th>\n",
       "      <th>Home Ownership</th>\n",
       "      <th>Annual Income</th>\n",
       "      <th>Purpose</th>\n",
       "      <th>Monthly Debt</th>\n",
       "      <th>Years of Credit History</th>\n",
       "      <th>Months since last delinquent</th>\n",
       "      <th>Number of Open Accounts</th>\n",
       "      <th>Number of Credit Problems</th>\n",
       "      <th>Current Credit Balance</th>\n",
       "      <th>Maximum Open Credit</th>\n",
       "      <th>Bankruptcies</th>\n",
       "      <th>Tax Liens</th>\n",
       "    </tr>\n",
       "  </thead>\n",
       "  <tbody>\n",
       "    <tr>\n",
       "      <th>0</th>\n",
       "      <td>000025bb-5694-4cff-b17d-192b1a98ba44</td>\n",
       "      <td>5ebc8bb1-5eb9-4404-b11b-a6eebc401a19</td>\n",
       "      <td>Fully Paid</td>\n",
       "      <td>11520</td>\n",
       "      <td>Short Term</td>\n",
       "      <td>741.0</td>\n",
       "      <td>10+ years</td>\n",
       "      <td>Home Mortgage</td>\n",
       "      <td>33694.0</td>\n",
       "      <td>Debt Consolidation</td>\n",
       "      <td>$584.03</td>\n",
       "      <td>12.3</td>\n",
       "      <td>41.0</td>\n",
       "      <td>10</td>\n",
       "      <td>0</td>\n",
       "      <td>6760</td>\n",
       "      <td>16056</td>\n",
       "      <td>0.0</td>\n",
       "      <td>0.0</td>\n",
       "    </tr>\n",
       "    <tr>\n",
       "      <th>1</th>\n",
       "      <td>00002c49-3a29-4bd4-8f67-c8f8fbc1048c</td>\n",
       "      <td>927b388d-2e01-423f-a8dc-f7e42d668f46</td>\n",
       "      <td>Fully Paid</td>\n",
       "      <td>3441</td>\n",
       "      <td>Short Term</td>\n",
       "      <td>734.0</td>\n",
       "      <td>4 years</td>\n",
       "      <td>Home Mortgage</td>\n",
       "      <td>42269.0</td>\n",
       "      <td>other</td>\n",
       "      <td>$1,106.04</td>\n",
       "      <td>26.3</td>\n",
       "      <td>NaN</td>\n",
       "      <td>17</td>\n",
       "      <td>0</td>\n",
       "      <td>6262</td>\n",
       "      <td>19149</td>\n",
       "      <td>0.0</td>\n",
       "      <td>0.0</td>\n",
       "    </tr>\n",
       "    <tr>\n",
       "      <th>2</th>\n",
       "      <td>00002d89-27f3-409b-aa76-90834f359a65</td>\n",
       "      <td>defce609-c631-447d-aad6-1270615e89c4</td>\n",
       "      <td>Fully Paid</td>\n",
       "      <td>21029</td>\n",
       "      <td>Short Term</td>\n",
       "      <td>747.0</td>\n",
       "      <td>10+ years</td>\n",
       "      <td>Home Mortgage</td>\n",
       "      <td>90126.0</td>\n",
       "      <td>Debt Consolidation</td>\n",
       "      <td>$1,321.85</td>\n",
       "      <td>28.8</td>\n",
       "      <td>NaN</td>\n",
       "      <td>5</td>\n",
       "      <td>0</td>\n",
       "      <td>20967</td>\n",
       "      <td>28335</td>\n",
       "      <td>0.0</td>\n",
       "      <td>0.0</td>\n",
       "    </tr>\n",
       "    <tr>\n",
       "      <th>3</th>\n",
       "      <td>00005222-b4d8-45a4-ad8c-186057e24233</td>\n",
       "      <td>070bcecb-aae7-4485-a26a-e0403e7bb6c5</td>\n",
       "      <td>Fully Paid</td>\n",
       "      <td>18743</td>\n",
       "      <td>Short Term</td>\n",
       "      <td>747.0</td>\n",
       "      <td>10+ years</td>\n",
       "      <td>Own Home</td>\n",
       "      <td>38072.0</td>\n",
       "      <td>Debt Consolidation</td>\n",
       "      <td>$751.92</td>\n",
       "      <td>26.2</td>\n",
       "      <td>NaN</td>\n",
       "      <td>9</td>\n",
       "      <td>0</td>\n",
       "      <td>22529</td>\n",
       "      <td>43915</td>\n",
       "      <td>0.0</td>\n",
       "      <td>0.0</td>\n",
       "    </tr>\n",
       "    <tr>\n",
       "      <th>4</th>\n",
       "      <td>0000757f-a121-41ed-b17b-162e76647c1f</td>\n",
       "      <td>dde79588-12f0-4811-bab0-e2b07f633fcd</td>\n",
       "      <td>Fully Paid</td>\n",
       "      <td>11731</td>\n",
       "      <td>Short Term</td>\n",
       "      <td>746.0</td>\n",
       "      <td>4 years</td>\n",
       "      <td>Rent</td>\n",
       "      <td>50025.0</td>\n",
       "      <td>Debt Consolidation</td>\n",
       "      <td>$355.18</td>\n",
       "      <td>11.5</td>\n",
       "      <td>NaN</td>\n",
       "      <td>12</td>\n",
       "      <td>0</td>\n",
       "      <td>17391</td>\n",
       "      <td>37081</td>\n",
       "      <td>0.0</td>\n",
       "      <td>0.0</td>\n",
       "    </tr>\n",
       "  </tbody>\n",
       "</table>\n",
       "</div>"
      ],
      "text/plain": [
       "                                Loan ID                           Customer ID  \\\n",
       "0  000025bb-5694-4cff-b17d-192b1a98ba44  5ebc8bb1-5eb9-4404-b11b-a6eebc401a19   \n",
       "1  00002c49-3a29-4bd4-8f67-c8f8fbc1048c  927b388d-2e01-423f-a8dc-f7e42d668f46   \n",
       "2  00002d89-27f3-409b-aa76-90834f359a65  defce609-c631-447d-aad6-1270615e89c4   \n",
       "3  00005222-b4d8-45a4-ad8c-186057e24233  070bcecb-aae7-4485-a26a-e0403e7bb6c5   \n",
       "4  0000757f-a121-41ed-b17b-162e76647c1f  dde79588-12f0-4811-bab0-e2b07f633fcd   \n",
       "\n",
       "  Loan Status  Current Loan Amount        Term  Credit Score  \\\n",
       "0  Fully Paid                11520  Short Term         741.0   \n",
       "1  Fully Paid                 3441  Short Term         734.0   \n",
       "2  Fully Paid                21029  Short Term         747.0   \n",
       "3  Fully Paid                18743  Short Term         747.0   \n",
       "4  Fully Paid                11731  Short Term         746.0   \n",
       "\n",
       "  Years in current job Home Ownership  Annual Income             Purpose  \\\n",
       "0            10+ years  Home Mortgage        33694.0  Debt Consolidation   \n",
       "1              4 years  Home Mortgage        42269.0               other   \n",
       "2            10+ years  Home Mortgage        90126.0  Debt Consolidation   \n",
       "3            10+ years       Own Home        38072.0  Debt Consolidation   \n",
       "4              4 years           Rent        50025.0  Debt Consolidation   \n",
       "\n",
       "  Monthly Debt  Years of Credit History  Months since last delinquent  \\\n",
       "0      $584.03                     12.3                          41.0   \n",
       "1   $1,106.04                      26.3                           NaN   \n",
       "2   $1,321.85                      28.8                           NaN   \n",
       "3      $751.92                     26.2                           NaN   \n",
       "4      $355.18                     11.5                           NaN   \n",
       "\n",
       "   Number of Open Accounts  Number of Credit Problems  Current Credit Balance  \\\n",
       "0                       10                          0                    6760   \n",
       "1                       17                          0                    6262   \n",
       "2                        5                          0                   20967   \n",
       "3                        9                          0                   22529   \n",
       "4                       12                          0                   17391   \n",
       "\n",
       "  Maximum Open Credit  Bankruptcies  Tax Liens  \n",
       "0               16056           0.0        0.0  \n",
       "1               19149           0.0        0.0  \n",
       "2               28335           0.0        0.0  \n",
       "3               43915           0.0        0.0  \n",
       "4               37081           0.0        0.0  "
      ]
     },
     "execution_count": 1,
     "metadata": {},
     "output_type": "execute_result"
    }
   ],
   "source": [
    "import numpy as np\n",
    "import pandas as pd\n",
    "\n",
    "df = pd.read_csv('LoansTrainingSet.csv')\n",
    "df.head()"
   ]
  },
  {
   "cell_type": "markdown",
   "metadata": {},
   "source": [
    "## Data Understanding\n",
    "\n",
    "The dataset consists of the following fields:\n",
    "* Loan ID: A unique Identifier for the loan information.\n",
    "\n",
    "* Customer ID: A unique identifier for the customer. Customers may have more than one loan.\n",
    "\n",
    "* Loan Status: A categorical variable indicating if the loan was paid back or defaulted.\n",
    "\n",
    "* Current Loan Amount: This is the loan amount that was either completely paid off, or the amount that was defaulted.\n",
    "\n",
    "* Term: A categorical variable indicating if it is a short term or long term loan.\n",
    "\n",
    "* Credit Score: A value between 0 and 800 indicating the riskiness of the borrowers credit history.\n",
    "\n",
    "* Years in current job: A categorical variable indicating how many years the customer has been in their current job.\n",
    "\n",
    "* Home Ownership: Categorical variable indicating home ownership. Values are \"Rent\", \"Home Mortgage\", and \"Own\". If the value is OWN, then the customer is a home owner with no mortgage\n",
    "\n",
    "* Annual Income: The customer's annual income\n",
    "\n",
    "* Purpose: A description of the purpose of the loan.\n",
    "\n",
    "* Monthly Debt: The customer's monthly payment for their existing loans\n",
    "\n",
    "* Years of Credit History: The years since the first entry in the customer’s credit history\n",
    "\n",
    "* Months since last delinquent: Months since the last loan delinquent payment\n",
    "\n",
    "* Number of Open Accounts: The total number of open credit cards\n",
    "\n",
    "* Number of Credit Problems: The number of credit problems in the customer records.\n",
    "\n",
    "* Current Credit Balance: The current total debt for the customer\n",
    "\n",
    "* Maximum Open Credit: The maximum credit limit for all credit sources.\n",
    "\n",
    "* Bankruptcies: The number of bankruptcies\n",
    "\n",
    "* Tax Liens: The number of tax liens."
   ]
  },
  {
   "cell_type": "markdown",
   "metadata": {},
   "source": [
    "To make our prediction model, we will be using \"Loan Status\" as our dependent variable and the independent variables or the features will be used to train the model. "
   ]
  },
  {
   "cell_type": "markdown",
   "metadata": {},
   "source": [
    "## Data Preparation\n",
    "Let's take a closer look at the data and see if there is any missing data to clean up or remove from the set of features."
   ]
  },
  {
   "cell_type": "code",
   "execution_count": 2,
   "metadata": {
    "collapsed": false
   },
   "outputs": [
    {
     "name": "stdout",
     "output_type": "stream",
     "text": [
      "<class 'pandas.core.frame.DataFrame'>\n",
      "RangeIndex: 256984 entries, 0 to 256983\n",
      "Data columns (total 19 columns):\n",
      "Loan ID                         256984 non-null object\n",
      "Customer ID                     256984 non-null object\n",
      "Loan Status                     256984 non-null object\n",
      "Current Loan Amount             256984 non-null int64\n",
      "Term                            256984 non-null object\n",
      "Credit Score                    195308 non-null float64\n",
      "Years in current job            256984 non-null object\n",
      "Home Ownership                  256984 non-null object\n",
      "Annual Income                   195308 non-null float64\n",
      "Purpose                         256984 non-null object\n",
      "Monthly Debt                    256984 non-null object\n",
      "Years of Credit History         256984 non-null float64\n",
      "Months since last delinquent    116601 non-null float64\n",
      "Number of Open Accounts         256984 non-null int64\n",
      "Number of Credit Problems       256984 non-null int64\n",
      "Current Credit Balance          256984 non-null int64\n",
      "Maximum Open Credit             256984 non-null object\n",
      "Bankruptcies                    256455 non-null float64\n",
      "Tax Liens                       256961 non-null float64\n",
      "dtypes: float64(6), int64(4), object(9)\n",
      "memory usage: 37.3+ MB\n"
     ]
    }
   ],
   "source": [
    "df.info()"
   ]
  },
  {
   "cell_type": "markdown",
   "metadata": {},
   "source": [
    "From the information above, it looks like we have data missing in \"Credit Score\", \"Annual Income\", \"Months since last delinquent\", \"Bankruptcies\", and \"Tax Liens\". The \"Loan ID\" and \"Customer ID\" columns will be dropped since they will provide no useful information for predicting whether or not a loan should be granted. The describe function will tell us whether or not there are any null inputs in the numerical columns. "
   ]
  },
  {
   "cell_type": "code",
   "execution_count": 3,
   "metadata": {
    "collapsed": false
   },
   "outputs": [
    {
     "name": "stderr",
     "output_type": "stream",
     "text": [
      "C:\\Users\\Dennis\\Anaconda2\\lib\\site-packages\\numpy\\lib\\function_base.py:3834: RuntimeWarning: Invalid value encountered in percentile\n",
      "  RuntimeWarning)\n"
     ]
    },
    {
     "data": {
      "text/html": [
       "<div>\n",
       "<table border=\"1\" class=\"dataframe\">\n",
       "  <thead>\n",
       "    <tr style=\"text-align: right;\">\n",
       "      <th></th>\n",
       "      <th>Current Loan Amount</th>\n",
       "      <th>Credit Score</th>\n",
       "      <th>Annual Income</th>\n",
       "      <th>Years of Credit History</th>\n",
       "      <th>Months since last delinquent</th>\n",
       "      <th>Number of Open Accounts</th>\n",
       "      <th>Number of Credit Problems</th>\n",
       "      <th>Current Credit Balance</th>\n",
       "      <th>Bankruptcies</th>\n",
       "      <th>Tax Liens</th>\n",
       "    </tr>\n",
       "  </thead>\n",
       "  <tbody>\n",
       "    <tr>\n",
       "      <th>count</th>\n",
       "      <td>2.569840e+05</td>\n",
       "      <td>195308.000000</td>\n",
       "      <td>1.953080e+05</td>\n",
       "      <td>256984.000000</td>\n",
       "      <td>116601.000000</td>\n",
       "      <td>256984.000000</td>\n",
       "      <td>256984.000000</td>\n",
       "      <td>2.569840e+05</td>\n",
       "      <td>256455.000000</td>\n",
       "      <td>256961.000000</td>\n",
       "    </tr>\n",
       "    <tr>\n",
       "      <th>mean</th>\n",
       "      <td>1.371331e+07</td>\n",
       "      <td>1251.116099</td>\n",
       "      <td>7.195272e+04</td>\n",
       "      <td>18.290195</td>\n",
       "      <td>34.881450</td>\n",
       "      <td>11.106267</td>\n",
       "      <td>0.156628</td>\n",
       "      <td>1.540656e+04</td>\n",
       "      <td>0.110316</td>\n",
       "      <td>0.027203</td>\n",
       "    </tr>\n",
       "    <tr>\n",
       "      <th>std</th>\n",
       "      <td>3.438131e+07</td>\n",
       "      <td>1762.016848</td>\n",
       "      <td>5.887757e+04</td>\n",
       "      <td>7.075747</td>\n",
       "      <td>21.854165</td>\n",
       "      <td>4.982982</td>\n",
       "      <td>0.460731</td>\n",
       "      <td>1.966506e+04</td>\n",
       "      <td>0.336229</td>\n",
       "      <td>0.245950</td>\n",
       "    </tr>\n",
       "    <tr>\n",
       "      <th>min</th>\n",
       "      <td>5.050000e+02</td>\n",
       "      <td>585.000000</td>\n",
       "      <td>0.000000e+00</td>\n",
       "      <td>3.400000</td>\n",
       "      <td>0.000000</td>\n",
       "      <td>0.000000</td>\n",
       "      <td>0.000000</td>\n",
       "      <td>0.000000e+00</td>\n",
       "      <td>0.000000</td>\n",
       "      <td>0.000000</td>\n",
       "    </tr>\n",
       "    <tr>\n",
       "      <th>25%</th>\n",
       "      <td>8.299000e+03</td>\n",
       "      <td>NaN</td>\n",
       "      <td>NaN</td>\n",
       "      <td>13.500000</td>\n",
       "      <td>NaN</td>\n",
       "      <td>8.000000</td>\n",
       "      <td>0.000000</td>\n",
       "      <td>5.974000e+03</td>\n",
       "      <td>NaN</td>\n",
       "      <td>NaN</td>\n",
       "    </tr>\n",
       "    <tr>\n",
       "      <th>50%</th>\n",
       "      <td>1.429800e+04</td>\n",
       "      <td>NaN</td>\n",
       "      <td>NaN</td>\n",
       "      <td>17.000000</td>\n",
       "      <td>NaN</td>\n",
       "      <td>10.000000</td>\n",
       "      <td>0.000000</td>\n",
       "      <td>1.107800e+04</td>\n",
       "      <td>NaN</td>\n",
       "      <td>NaN</td>\n",
       "    </tr>\n",
       "    <tr>\n",
       "      <th>75%</th>\n",
       "      <td>2.436700e+04</td>\n",
       "      <td>NaN</td>\n",
       "      <td>NaN</td>\n",
       "      <td>21.700000</td>\n",
       "      <td>NaN</td>\n",
       "      <td>14.000000</td>\n",
       "      <td>0.000000</td>\n",
       "      <td>1.931900e+04</td>\n",
       "      <td>NaN</td>\n",
       "      <td>NaN</td>\n",
       "    </tr>\n",
       "    <tr>\n",
       "      <th>max</th>\n",
       "      <td>1.000000e+08</td>\n",
       "      <td>7510.000000</td>\n",
       "      <td>8.713547e+06</td>\n",
       "      <td>70.500000</td>\n",
       "      <td>176.000000</td>\n",
       "      <td>76.000000</td>\n",
       "      <td>11.000000</td>\n",
       "      <td>1.731412e+06</td>\n",
       "      <td>7.000000</td>\n",
       "      <td>11.000000</td>\n",
       "    </tr>\n",
       "  </tbody>\n",
       "</table>\n",
       "</div>"
      ],
      "text/plain": [
       "       Current Loan Amount   Credit Score  Annual Income  \\\n",
       "count         2.569840e+05  195308.000000   1.953080e+05   \n",
       "mean          1.371331e+07    1251.116099   7.195272e+04   \n",
       "std           3.438131e+07    1762.016848   5.887757e+04   \n",
       "min           5.050000e+02     585.000000   0.000000e+00   \n",
       "25%           8.299000e+03            NaN            NaN   \n",
       "50%           1.429800e+04            NaN            NaN   \n",
       "75%           2.436700e+04            NaN            NaN   \n",
       "max           1.000000e+08    7510.000000   8.713547e+06   \n",
       "\n",
       "       Years of Credit History  Months since last delinquent  \\\n",
       "count            256984.000000                 116601.000000   \n",
       "mean                 18.290195                     34.881450   \n",
       "std                   7.075747                     21.854165   \n",
       "min                   3.400000                      0.000000   \n",
       "25%                  13.500000                           NaN   \n",
       "50%                  17.000000                           NaN   \n",
       "75%                  21.700000                           NaN   \n",
       "max                  70.500000                    176.000000   \n",
       "\n",
       "       Number of Open Accounts  Number of Credit Problems  \\\n",
       "count            256984.000000              256984.000000   \n",
       "mean                 11.106267                   0.156628   \n",
       "std                   4.982982                   0.460731   \n",
       "min                   0.000000                   0.000000   \n",
       "25%                   8.000000                   0.000000   \n",
       "50%                  10.000000                   0.000000   \n",
       "75%                  14.000000                   0.000000   \n",
       "max                  76.000000                  11.000000   \n",
       "\n",
       "       Current Credit Balance   Bankruptcies      Tax Liens  \n",
       "count            2.569840e+05  256455.000000  256961.000000  \n",
       "mean             1.540656e+04       0.110316       0.027203  \n",
       "std              1.966506e+04       0.336229       0.245950  \n",
       "min              0.000000e+00       0.000000       0.000000  \n",
       "25%              5.974000e+03            NaN            NaN  \n",
       "50%              1.107800e+04            NaN            NaN  \n",
       "75%              1.931900e+04            NaN            NaN  \n",
       "max              1.731412e+06       7.000000      11.000000  "
      ]
     },
     "execution_count": 3,
     "metadata": {},
     "output_type": "execute_result"
    }
   ],
   "source": [
    "df.describe()"
   ]
  },
  {
   "cell_type": "markdown",
   "metadata": {},
   "source": [
    "As we can see, the columns with NaN values contain null values, these are the columns to focus on cleaning first. Also, Credit Score is suppose to only contain values ranging from 0 to 800, but the max is 7510. This needs to be further investigated. "
   ]
  },
  {
   "cell_type": "code",
   "execution_count": 4,
   "metadata": {
    "collapsed": false
   },
   "outputs": [
    {
     "data": {
      "text/html": [
       "<div>\n",
       "<table border=\"1\" class=\"dataframe\">\n",
       "  <thead>\n",
       "    <tr style=\"text-align: right;\">\n",
       "      <th></th>\n",
       "      <th>Loan ID</th>\n",
       "      <th>Customer ID</th>\n",
       "      <th>Loan Status</th>\n",
       "      <th>Current Loan Amount</th>\n",
       "      <th>Term</th>\n",
       "      <th>Credit Score</th>\n",
       "      <th>Years in current job</th>\n",
       "      <th>Home Ownership</th>\n",
       "      <th>Annual Income</th>\n",
       "      <th>Purpose</th>\n",
       "      <th>Monthly Debt</th>\n",
       "      <th>Years of Credit History</th>\n",
       "      <th>Months since last delinquent</th>\n",
       "      <th>Number of Open Accounts</th>\n",
       "      <th>Number of Credit Problems</th>\n",
       "      <th>Current Credit Balance</th>\n",
       "      <th>Maximum Open Credit</th>\n",
       "      <th>Bankruptcies</th>\n",
       "      <th>Tax Liens</th>\n",
       "    </tr>\n",
       "  </thead>\n",
       "  <tbody>\n",
       "    <tr>\n",
       "      <th>7</th>\n",
       "      <td>0000afa6-8902-4f8f-b870-25a8fdad0aeb</td>\n",
       "      <td>e49c1a82-a0f7-45e8-9f46-2f75c43f9fbc</td>\n",
       "      <td>Charged Off</td>\n",
       "      <td>24613</td>\n",
       "      <td>Long Term</td>\n",
       "      <td>NaN</td>\n",
       "      <td>6 years</td>\n",
       "      <td>Rent</td>\n",
       "      <td>NaN</td>\n",
       "      <td>Business Loan</td>\n",
       "      <td>$542.29</td>\n",
       "      <td>17.6</td>\n",
       "      <td>73.0</td>\n",
       "      <td>7</td>\n",
       "      <td>0</td>\n",
       "      <td>14123</td>\n",
       "      <td>16954</td>\n",
       "      <td>0.0</td>\n",
       "      <td>0.0</td>\n",
       "    </tr>\n",
       "    <tr>\n",
       "      <th>8</th>\n",
       "      <td>00011dfc-31c1-4178-932a-fbeb3f341efb</td>\n",
       "      <td>ef6e098c-6c83-4752-8d00-ff793e476b8c</td>\n",
       "      <td>Fully Paid</td>\n",
       "      <td>10036</td>\n",
       "      <td>Short Term</td>\n",
       "      <td>NaN</td>\n",
       "      <td>5 years</td>\n",
       "      <td>Rent</td>\n",
       "      <td>NaN</td>\n",
       "      <td>Debt Consolidation</td>\n",
       "      <td>$386.36</td>\n",
       "      <td>17.7</td>\n",
       "      <td>NaN</td>\n",
       "      <td>7</td>\n",
       "      <td>0</td>\n",
       "      <td>11970</td>\n",
       "      <td>16579</td>\n",
       "      <td>0.0</td>\n",
       "      <td>0.0</td>\n",
       "    </tr>\n",
       "    <tr>\n",
       "      <th>12</th>\n",
       "      <td>00029f9f-0cc5-4d4e-aabc-ea4a7fe74e12</td>\n",
       "      <td>afbc2fa3-3bad-4d48-b691-829aed78bad5</td>\n",
       "      <td>Charged Off</td>\n",
       "      <td>17980</td>\n",
       "      <td>Short Term</td>\n",
       "      <td>NaN</td>\n",
       "      <td>&lt; 1 year</td>\n",
       "      <td>Own Home</td>\n",
       "      <td>NaN</td>\n",
       "      <td>Debt Consolidation</td>\n",
       "      <td>$597.50</td>\n",
       "      <td>9.9</td>\n",
       "      <td>43.0</td>\n",
       "      <td>7</td>\n",
       "      <td>0</td>\n",
       "      <td>6817</td>\n",
       "      <td>22800</td>\n",
       "      <td>0.0</td>\n",
       "      <td>0.0</td>\n",
       "    </tr>\n",
       "    <tr>\n",
       "      <th>20</th>\n",
       "      <td>00038a08-f058-4add-a8ed-497b91672a9e</td>\n",
       "      <td>727bb429-dfa1-41c4-a347-23230e23949f</td>\n",
       "      <td>Charged Off</td>\n",
       "      <td>16929</td>\n",
       "      <td>Long Term</td>\n",
       "      <td>NaN</td>\n",
       "      <td>3 years</td>\n",
       "      <td>Home Mortgage</td>\n",
       "      <td>NaN</td>\n",
       "      <td>Debt Consolidation</td>\n",
       "      <td>$745.70</td>\n",
       "      <td>14.9</td>\n",
       "      <td>NaN</td>\n",
       "      <td>10</td>\n",
       "      <td>0</td>\n",
       "      <td>28513</td>\n",
       "      <td>101110</td>\n",
       "      <td>0.0</td>\n",
       "      <td>0.0</td>\n",
       "    </tr>\n",
       "    <tr>\n",
       "      <th>22</th>\n",
       "      <td>0003b749-307f-4830-9fb4-9db7ed1b1c48</td>\n",
       "      <td>998dc43c-f9ce-466e-bdaa-7057b0bbb9cd</td>\n",
       "      <td>Fully Paid</td>\n",
       "      <td>7228</td>\n",
       "      <td>Short Term</td>\n",
       "      <td>NaN</td>\n",
       "      <td>3 years</td>\n",
       "      <td>Home Mortgage</td>\n",
       "      <td>NaN</td>\n",
       "      <td>Debt Consolidation</td>\n",
       "      <td>$439.56</td>\n",
       "      <td>17.8</td>\n",
       "      <td>NaN</td>\n",
       "      <td>13</td>\n",
       "      <td>1</td>\n",
       "      <td>8488</td>\n",
       "      <td>15866</td>\n",
       "      <td>1.0</td>\n",
       "      <td>0.0</td>\n",
       "    </tr>\n",
       "    <tr>\n",
       "      <th>26</th>\n",
       "      <td>0004d002-a494-4f8a-a528-a6d513812701</td>\n",
       "      <td>4722d542-6684-431c-afb6-ba2e847f1098</td>\n",
       "      <td>Fully Paid</td>\n",
       "      <td>4612</td>\n",
       "      <td>Short Term</td>\n",
       "      <td>NaN</td>\n",
       "      <td>10+ years</td>\n",
       "      <td>Rent</td>\n",
       "      <td>NaN</td>\n",
       "      <td>Debt Consolidation</td>\n",
       "      <td>$262.27</td>\n",
       "      <td>14.0</td>\n",
       "      <td>NaN</td>\n",
       "      <td>4</td>\n",
       "      <td>0</td>\n",
       "      <td>8919</td>\n",
       "      <td>9330</td>\n",
       "      <td>0.0</td>\n",
       "      <td>0.0</td>\n",
       "    </tr>\n",
       "    <tr>\n",
       "      <th>38</th>\n",
       "      <td>0008255a-402e-4716-9e0a-8bdf55309781</td>\n",
       "      <td>4e25b6bf-9abc-4bbd-841e-c5a8403b68de</td>\n",
       "      <td>Fully Paid</td>\n",
       "      <td>6114</td>\n",
       "      <td>Short Term</td>\n",
       "      <td>NaN</td>\n",
       "      <td>n/a</td>\n",
       "      <td>Home Mortgage</td>\n",
       "      <td>NaN</td>\n",
       "      <td>Debt Consolidation</td>\n",
       "      <td>$206.97</td>\n",
       "      <td>17.8</td>\n",
       "      <td>21.0</td>\n",
       "      <td>8</td>\n",
       "      <td>1</td>\n",
       "      <td>5772</td>\n",
       "      <td>13975</td>\n",
       "      <td>1.0</td>\n",
       "      <td>0.0</td>\n",
       "    </tr>\n",
       "    <tr>\n",
       "      <th>46</th>\n",
       "      <td>000a08fa-e669-46dc-9a96-9da6b96570a0</td>\n",
       "      <td>4b7782a6-b84c-4dd9-ac62-f927a68eeaa9</td>\n",
       "      <td>Charged Off</td>\n",
       "      <td>21160</td>\n",
       "      <td>Long Term</td>\n",
       "      <td>NaN</td>\n",
       "      <td>5 years</td>\n",
       "      <td>Home Mortgage</td>\n",
       "      <td>NaN</td>\n",
       "      <td>Debt Consolidation</td>\n",
       "      <td>$1,290.98</td>\n",
       "      <td>20.8</td>\n",
       "      <td>NaN</td>\n",
       "      <td>28</td>\n",
       "      <td>0</td>\n",
       "      <td>28175</td>\n",
       "      <td>51227</td>\n",
       "      <td>0.0</td>\n",
       "      <td>0.0</td>\n",
       "    </tr>\n",
       "    <tr>\n",
       "      <th>56</th>\n",
       "      <td>000c0c27-1961-4336-b760-a300e1bce9b0</td>\n",
       "      <td>881edf98-387c-4eef-ab71-317a7a5e70c1</td>\n",
       "      <td>Charged Off</td>\n",
       "      <td>6463</td>\n",
       "      <td>Short Term</td>\n",
       "      <td>NaN</td>\n",
       "      <td>1 year</td>\n",
       "      <td>Own Home</td>\n",
       "      <td>NaN</td>\n",
       "      <td>Debt Consolidation</td>\n",
       "      <td>$633.29</td>\n",
       "      <td>19.9</td>\n",
       "      <td>74.0</td>\n",
       "      <td>9</td>\n",
       "      <td>0</td>\n",
       "      <td>8025</td>\n",
       "      <td>24317</td>\n",
       "      <td>0.0</td>\n",
       "      <td>0.0</td>\n",
       "    </tr>\n",
       "    <tr>\n",
       "      <th>57</th>\n",
       "      <td>000c16df-c24f-41cf-a90e-60301d131bb9</td>\n",
       "      <td>b07c4262-70bb-41cc-b28a-d87540577fb1</td>\n",
       "      <td>Fully Paid</td>\n",
       "      <td>7068</td>\n",
       "      <td>Short Term</td>\n",
       "      <td>NaN</td>\n",
       "      <td>n/a</td>\n",
       "      <td>Own Home</td>\n",
       "      <td>NaN</td>\n",
       "      <td>other</td>\n",
       "      <td>$425.68</td>\n",
       "      <td>21.3</td>\n",
       "      <td>NaN</td>\n",
       "      <td>7</td>\n",
       "      <td>1</td>\n",
       "      <td>4178</td>\n",
       "      <td>6850</td>\n",
       "      <td>1.0</td>\n",
       "      <td>0.0</td>\n",
       "    </tr>\n",
       "  </tbody>\n",
       "</table>\n",
       "</div>"
      ],
      "text/plain": [
       "                                 Loan ID  \\\n",
       "7   0000afa6-8902-4f8f-b870-25a8fdad0aeb   \n",
       "8   00011dfc-31c1-4178-932a-fbeb3f341efb   \n",
       "12  00029f9f-0cc5-4d4e-aabc-ea4a7fe74e12   \n",
       "20  00038a08-f058-4add-a8ed-497b91672a9e   \n",
       "22  0003b749-307f-4830-9fb4-9db7ed1b1c48   \n",
       "26  0004d002-a494-4f8a-a528-a6d513812701   \n",
       "38  0008255a-402e-4716-9e0a-8bdf55309781   \n",
       "46  000a08fa-e669-46dc-9a96-9da6b96570a0   \n",
       "56  000c0c27-1961-4336-b760-a300e1bce9b0   \n",
       "57  000c16df-c24f-41cf-a90e-60301d131bb9   \n",
       "\n",
       "                             Customer ID  Loan Status  Current Loan Amount  \\\n",
       "7   e49c1a82-a0f7-45e8-9f46-2f75c43f9fbc  Charged Off                24613   \n",
       "8   ef6e098c-6c83-4752-8d00-ff793e476b8c   Fully Paid                10036   \n",
       "12  afbc2fa3-3bad-4d48-b691-829aed78bad5  Charged Off                17980   \n",
       "20  727bb429-dfa1-41c4-a347-23230e23949f  Charged Off                16929   \n",
       "22  998dc43c-f9ce-466e-bdaa-7057b0bbb9cd   Fully Paid                 7228   \n",
       "26  4722d542-6684-431c-afb6-ba2e847f1098   Fully Paid                 4612   \n",
       "38  4e25b6bf-9abc-4bbd-841e-c5a8403b68de   Fully Paid                 6114   \n",
       "46  4b7782a6-b84c-4dd9-ac62-f927a68eeaa9  Charged Off                21160   \n",
       "56  881edf98-387c-4eef-ab71-317a7a5e70c1  Charged Off                 6463   \n",
       "57  b07c4262-70bb-41cc-b28a-d87540577fb1   Fully Paid                 7068   \n",
       "\n",
       "          Term  Credit Score Years in current job Home Ownership  \\\n",
       "7    Long Term           NaN              6 years           Rent   \n",
       "8   Short Term           NaN              5 years           Rent   \n",
       "12  Short Term           NaN             < 1 year       Own Home   \n",
       "20   Long Term           NaN              3 years  Home Mortgage   \n",
       "22  Short Term           NaN              3 years  Home Mortgage   \n",
       "26  Short Term           NaN            10+ years           Rent   \n",
       "38  Short Term           NaN                  n/a  Home Mortgage   \n",
       "46   Long Term           NaN              5 years  Home Mortgage   \n",
       "56  Short Term           NaN               1 year       Own Home   \n",
       "57  Short Term           NaN                  n/a       Own Home   \n",
       "\n",
       "    Annual Income             Purpose Monthly Debt  Years of Credit History  \\\n",
       "7             NaN       Business Loan      $542.29                     17.6   \n",
       "8             NaN  Debt Consolidation      $386.36                     17.7   \n",
       "12            NaN  Debt Consolidation      $597.50                      9.9   \n",
       "20            NaN  Debt Consolidation      $745.70                     14.9   \n",
       "22            NaN  Debt Consolidation      $439.56                     17.8   \n",
       "26            NaN  Debt Consolidation      $262.27                     14.0   \n",
       "38            NaN  Debt Consolidation      $206.97                     17.8   \n",
       "46            NaN  Debt Consolidation   $1,290.98                      20.8   \n",
       "56            NaN  Debt Consolidation      $633.29                     19.9   \n",
       "57            NaN               other      $425.68                     21.3   \n",
       "\n",
       "    Months since last delinquent  Number of Open Accounts  \\\n",
       "7                           73.0                        7   \n",
       "8                            NaN                        7   \n",
       "12                          43.0                        7   \n",
       "20                           NaN                       10   \n",
       "22                           NaN                       13   \n",
       "26                           NaN                        4   \n",
       "38                          21.0                        8   \n",
       "46                           NaN                       28   \n",
       "56                          74.0                        9   \n",
       "57                           NaN                        7   \n",
       "\n",
       "    Number of Credit Problems  Current Credit Balance Maximum Open Credit  \\\n",
       "7                           0                   14123               16954   \n",
       "8                           0                   11970               16579   \n",
       "12                          0                    6817               22800   \n",
       "20                          0                   28513              101110   \n",
       "22                          1                    8488               15866   \n",
       "26                          0                    8919                9330   \n",
       "38                          1                    5772               13975   \n",
       "46                          0                   28175               51227   \n",
       "56                          0                    8025               24317   \n",
       "57                          1                    4178                6850   \n",
       "\n",
       "    Bankruptcies  Tax Liens  \n",
       "7            0.0        0.0  \n",
       "8            0.0        0.0  \n",
       "12           0.0        0.0  \n",
       "20           0.0        0.0  \n",
       "22           1.0        0.0  \n",
       "26           0.0        0.0  \n",
       "38           1.0        0.0  \n",
       "46           0.0        0.0  \n",
       "56           0.0        0.0  \n",
       "57           1.0        0.0  "
      ]
     },
     "execution_count": 4,
     "metadata": {},
     "output_type": "execute_result"
    }
   ],
   "source": [
    "columns_nan = df['Credit Score'].isnull()\n",
    "df[columns_nan].head(10)"
   ]
  },
  {
   "cell_type": "markdown",
   "metadata": {},
   "source": [
    "From above, those who have NaN values in the Credit Score\" column also have NaN values in \"Annual Income\". We will be dropping these rows since there is nothing that can be done with these. "
   ]
  },
  {
   "cell_type": "code",
   "execution_count": 5,
   "metadata": {
    "collapsed": false
   },
   "outputs": [],
   "source": [
    "df = df[df['Credit Score'].notnull()]"
   ]
  },
  {
   "cell_type": "code",
   "execution_count": 6,
   "metadata": {
    "collapsed": false,
    "scrolled": true
   },
   "outputs": [
    {
     "name": "stdout",
     "output_type": "stream",
     "text": [
      "<class 'pandas.core.frame.DataFrame'>\n",
      "Int64Index: 195308 entries, 0 to 256983\n",
      "Data columns (total 19 columns):\n",
      "Loan ID                         195308 non-null object\n",
      "Customer ID                     195308 non-null object\n",
      "Loan Status                     195308 non-null object\n",
      "Current Loan Amount             195308 non-null int64\n",
      "Term                            195308 non-null object\n",
      "Credit Score                    195308 non-null float64\n",
      "Years in current job            195308 non-null object\n",
      "Home Ownership                  195308 non-null object\n",
      "Annual Income                   195308 non-null float64\n",
      "Purpose                         195308 non-null object\n",
      "Monthly Debt                    195308 non-null object\n",
      "Years of Credit History         195308 non-null float64\n",
      "Months since last delinquent    88466 non-null float64\n",
      "Number of Open Accounts         195308 non-null int64\n",
      "Number of Credit Problems       195308 non-null int64\n",
      "Current Credit Balance          195308 non-null int64\n",
      "Maximum Open Credit             195308 non-null object\n",
      "Bankruptcies                    194895 non-null float64\n",
      "Tax Liens                       195293 non-null float64\n",
      "dtypes: float64(6), int64(4), object(9)\n",
      "memory usage: 29.8+ MB\n"
     ]
    }
   ],
   "source": [
    "df.info()"
   ]
  },
  {
   "cell_type": "markdown",
   "metadata": {},
   "source": [
    "Now both \"Credit Score\" and \"Annual Income\" columns have no missing values! Now we need to fix the range of \"Credit Score\" to be within 0 to 800."
   ]
  },
  {
   "cell_type": "code",
   "execution_count": 7,
   "metadata": {
    "collapsed": false
   },
   "outputs": [
    {
     "data": {
      "text/html": [
       "<div>\n",
       "<table border=\"1\" class=\"dataframe\">\n",
       "  <thead>\n",
       "    <tr style=\"text-align: right;\">\n",
       "      <th></th>\n",
       "      <th>Credit Score</th>\n",
       "    </tr>\n",
       "  </thead>\n",
       "  <tbody>\n",
       "    <tr>\n",
       "      <th>6</th>\n",
       "      <td>6640.0</td>\n",
       "    </tr>\n",
       "    <tr>\n",
       "      <th>55</th>\n",
       "      <td>7320.0</td>\n",
       "    </tr>\n",
       "    <tr>\n",
       "      <th>71</th>\n",
       "      <td>7180.0</td>\n",
       "    </tr>\n",
       "    <tr>\n",
       "      <th>73</th>\n",
       "      <td>6670.0</td>\n",
       "    </tr>\n",
       "    <tr>\n",
       "      <th>79</th>\n",
       "      <td>7270.0</td>\n",
       "    </tr>\n",
       "  </tbody>\n",
       "</table>\n",
       "</div>"
      ],
      "text/plain": [
       "    Credit Score\n",
       "6         6640.0\n",
       "55        7320.0\n",
       "71        7180.0\n",
       "73        6670.0\n",
       "79        7270.0"
      ]
     },
     "execution_count": 7,
     "metadata": {},
     "output_type": "execute_result"
    }
   ],
   "source": [
    "df[['Credit Score']][(df['Credit Score'] > 800)].head()"
   ]
  },
  {
   "cell_type": "code",
   "execution_count": 8,
   "metadata": {
    "collapsed": false
   },
   "outputs": [
    {
     "name": "stdout",
     "output_type": "stream",
     "text": [
      "<class 'pandas.core.frame.DataFrame'>\n",
      "Int64Index: 195308 entries, 0 to 256983\n",
      "Data columns (total 19 columns):\n",
      "Loan ID                         195308 non-null object\n",
      "Customer ID                     195308 non-null object\n",
      "Loan Status                     195308 non-null object\n",
      "Current Loan Amount             195308 non-null int64\n",
      "Term                            195308 non-null object\n",
      "Credit Score                    195308 non-null float64\n",
      "Years in current job            195308 non-null object\n",
      "Home Ownership                  195308 non-null object\n",
      "Annual Income                   195308 non-null float64\n",
      "Purpose                         195308 non-null object\n",
      "Monthly Debt                    195308 non-null object\n",
      "Years of Credit History         195308 non-null float64\n",
      "Months since last delinquent    88466 non-null float64\n",
      "Number of Open Accounts         195308 non-null int64\n",
      "Number of Credit Problems       195308 non-null int64\n",
      "Current Credit Balance          195308 non-null int64\n",
      "Maximum Open Credit             195308 non-null object\n",
      "Bankruptcies                    194895 non-null float64\n",
      "Tax Liens                       195293 non-null float64\n",
      "dtypes: float64(6), int64(4), object(9)\n",
      "memory usage: 29.8+ MB\n"
     ]
    }
   ],
   "source": [
    "df.info()"
   ]
  },
  {
   "cell_type": "markdown",
   "metadata": {},
   "source": [
    "It is safe to assume these credit score values were incorrectly inputted as they all end with a 0. Without the 0, the values of \"Credit Score\" fall within the appropriate range. We will remove the 0's on the right side from these values. Also Monthly Debt and Maximum Open Credit show as object, but they should be float64 since they are numeric values. "
   ]
  },
  {
   "cell_type": "code",
   "execution_count": 9,
   "metadata": {
    "collapsed": false
   },
   "outputs": [],
   "source": [
    "# convert Credit Score column from float to int type\n",
    "df['Credit Score'] = df['Credit Score'].astype(np.int64)"
   ]
  },
  {
   "cell_type": "code",
   "execution_count": 10,
   "metadata": {
    "collapsed": false
   },
   "outputs": [],
   "source": [
    "df['Credit Score'] = df['Credit Score'].map(lambda x: x//10 if x > 800 else x)"
   ]
  },
  {
   "cell_type": "code",
   "execution_count": 11,
   "metadata": {
    "collapsed": false
   },
   "outputs": [
    {
     "data": {
      "text/plain": [
       "Credit Score    0\n",
       "dtype: int64"
      ]
     },
     "execution_count": 11,
     "metadata": {},
     "output_type": "execute_result"
    }
   ],
   "source": [
    "df[['Credit Score']][(df['Credit Score'] > 800)].count() # counts number of credit scores over 800"
   ]
  },
  {
   "cell_type": "code",
   "execution_count": 12,
   "metadata": {
    "collapsed": false
   },
   "outputs": [
    {
     "data": {
      "text/plain": [
       "0     584.03\n",
       "1    1106.04\n",
       "2    1321.85\n",
       "3     751.92\n",
       "4     355.18\n",
       "Name: Monthly Debt, dtype: float64"
      ]
     },
     "execution_count": 12,
     "metadata": {},
     "output_type": "execute_result"
    }
   ],
   "source": [
    "# convert Monthly Debt and Maximum Open Credit to float64 data type\n",
    "df['Monthly Debt'] = df['Monthly Debt'].replace( '[\\$, ]','', regex=True ).astype(float) # Removes the $ and converts to float\n",
    "df['Monthly Debt'].head()"
   ]
  },
  {
   "cell_type": "code",
   "execution_count": 13,
   "metadata": {
    "collapsed": false
   },
   "outputs": [
    {
     "name": "stderr",
     "output_type": "stream",
     "text": [
      "C:\\Users\\Dennis\\Anaconda2\\lib\\site-packages\\ipykernel\\__main__.py:2: FutureWarning: convert_objects is deprecated.  Use the data-type specific converters pd.to_datetime, pd.to_timedelta and pd.to_numeric.\n",
      "  from ipykernel import kernelapp as app\n"
     ]
    },
    {
     "data": {
      "text/plain": [
       "0    16056.0\n",
       "1    19149.0\n",
       "2    28335.0\n",
       "3    43915.0\n",
       "4    37081.0\n",
       "Name: Maximum Open Credit, dtype: float64"
      ]
     },
     "execution_count": 13,
     "metadata": {},
     "output_type": "execute_result"
    }
   ],
   "source": [
    "# convert Maximum Open Credit to int64 data type\n",
    "df['Maximum Open Credit'] = df['Maximum Open Credit'].convert_objects(convert_numeric=True)\n",
    "df['Maximum Open Credit'].head()"
   ]
  },
  {
   "cell_type": "code",
   "execution_count": 14,
   "metadata": {
    "collapsed": false
   },
   "outputs": [
    {
     "name": "stdout",
     "output_type": "stream",
     "text": [
      "<class 'pandas.core.frame.DataFrame'>\n",
      "Int64Index: 195308 entries, 0 to 256983\n",
      "Data columns (total 19 columns):\n",
      "Loan ID                         195308 non-null object\n",
      "Customer ID                     195308 non-null object\n",
      "Loan Status                     195308 non-null object\n",
      "Current Loan Amount             195308 non-null int64\n",
      "Term                            195308 non-null object\n",
      "Credit Score                    195308 non-null int64\n",
      "Years in current job            195308 non-null object\n",
      "Home Ownership                  195308 non-null object\n",
      "Annual Income                   195308 non-null float64\n",
      "Purpose                         195308 non-null object\n",
      "Monthly Debt                    195308 non-null float64\n",
      "Years of Credit History         195308 non-null float64\n",
      "Months since last delinquent    88466 non-null float64\n",
      "Number of Open Accounts         195308 non-null int64\n",
      "Number of Credit Problems       195308 non-null int64\n",
      "Current Credit Balance          195308 non-null int64\n",
      "Maximum Open Credit             195305 non-null float64\n",
      "Bankruptcies                    194895 non-null float64\n",
      "Tax Liens                       195293 non-null float64\n",
      "dtypes: float64(7), int64(5), object(7)\n",
      "memory usage: 29.8+ MB\n"
     ]
    }
   ],
   "source": [
    "df.info()"
   ]
  },
  {
   "cell_type": "markdown",
   "metadata": {},
   "source": [
    "Great! Credit Score values fall within the range we need and our columns are converted to their proper data types. Now to check our unique values in our categorical varibles. "
   ]
  },
  {
   "cell_type": "code",
   "execution_count": 15,
   "metadata": {
    "collapsed": false
   },
   "outputs": [
    {
     "name": "stdout",
     "output_type": "stream",
     "text": [
      "Loan Status ['Fully Paid' 'Charged Off']\n",
      "Term:  ['Short Term' 'Long Term']\n",
      "Years in current job:  ['10+ years' '4 years' '6 years' 'n/a' '3 years' '2 years' '< 1 year'\n",
      " '5 years' '1 year' '7 years' '9 years' '8 years']\n",
      "Home Ownership:  ['Home Mortgage' 'Own Home' 'Rent' 'HaveMortgage']\n",
      "Purpose:  ['Debt Consolidation' 'other' 'Business Loan' 'Home Improvements'\n",
      " 'Buy House' 'Other' 'Medical Bills' 'Buy a Car' 'Take a Trip'\n",
      " 'Educational Expenses']\n"
     ]
    }
   ],
   "source": [
    "print \"Loan Status\", df['Loan Status'].unique()\n",
    "print \"Term: \", df['Term'].unique()\n",
    "print \"Years in current job: \", df['Years in current job'].unique()\n",
    "print \"Home Ownership: \", df['Home Ownership'].unique()\n",
    "print \"Purpose: \", df['Purpose'].unique()"
   ]
  },
  {
   "cell_type": "markdown",
   "metadata": {},
   "source": [
    "Looks like \"Home Ownership\" and \"Purpose\" have extra categorical variables. \"HaveMorgage\" will be changed to \"Home Morgage\" in the \"Home Ownership\" column while \"other\" will be combined with \"Other\" column in the \"Purpose\" column."
   ]
  },
  {
   "cell_type": "code",
   "execution_count": 16,
   "metadata": {
    "collapsed": true
   },
   "outputs": [],
   "source": [
    "# convert \"HaveMortgage\" to \"Home Morgage\"\n",
    "df['Home Ownership'] = df['Home Ownership'].map(lambda x: 'Home Mortgage' if x == 'HaveMortgage' else x)"
   ]
  },
  {
   "cell_type": "code",
   "execution_count": 17,
   "metadata": {
    "collapsed": false
   },
   "outputs": [],
   "source": [
    "# convert \"other to \"Other\"\n",
    "df['Purpose'] = df['Purpose'].map(lambda x: 'Other' if x == 'other' else x)"
   ]
  },
  {
   "cell_type": "code",
   "execution_count": 18,
   "metadata": {
    "collapsed": false
   },
   "outputs": [
    {
     "name": "stdout",
     "output_type": "stream",
     "text": [
      "Home Ownership:  ['Home Mortgage' 'Own Home' 'Rent']\n",
      "Purpose:  ['Debt Consolidation' 'Other' 'Business Loan' 'Home Improvements'\n",
      " 'Buy House' 'Medical Bills' 'Buy a Car' 'Take a Trip'\n",
      " 'Educational Expenses']\n"
     ]
    }
   ],
   "source": [
    "# check the unique values\n",
    "print \"Home Ownership: \", df['Home Ownership'].unique()\n",
    "print \"Purpose: \", df['Purpose'].unique()"
   ]
  },
  {
   "cell_type": "markdown",
   "metadata": {},
   "source": [
    "Let's determine what to do with the rest of the missing variables \"Months since last delinquent\", \"Maximum Open Credit\", \"Bankruptcies\", and \"Tax Liens\". Since \"Months since last delinquent\" has the most missing data, we will start with it."
   ]
  },
  {
   "cell_type": "code",
   "execution_count": 19,
   "metadata": {
    "collapsed": false
   },
   "outputs": [
    {
     "data": {
      "text/plain": [
       "<matplotlib.text.Text at 0x10ab1e80>"
      ]
     },
     "execution_count": 19,
     "metadata": {},
     "output_type": "execute_result"
    },
    {
     "data": {
      "image/png": "[encoded data removed]",
      "text/plain": [
       "<matplotlib.figure.Figure at 0x107279b0>"
      ]
     },
     "metadata": {},
     "output_type": "display_data"
    }
   ],
   "source": [
    "import matplotlib.pyplot as plt\n",
    "import plotly.plotly as py\n",
    "%matplotlib inline\n",
    "\n",
    "# Prepare data for plotting\n",
    "df2 = df[df['Months since last delinquent'].notnull()] # makes new data frame without null values\n",
    "x = df2['Months since last delinquent']\n",
    "y = df2['Loan Status'].map(lambda x: 1 if x == 'Fully Paid' else 0)\n",
    "\n",
    "# make the plot\n",
    "fig = plt.figure()\n",
    "ax = fig.add_subplot(111)  \n",
    "ax.scatter(x, y)\n",
    "ax.set_ylabel('Loan Status', fontsize=20)  \n",
    "ax.set_xlabel('Months since last delinquent', fontsize=20)"
   ]
  },
  {
   "cell_type": "markdown",
   "metadata": {},
   "source": [
    "By plotting the \"Months since last delinquent\" vs \"Loan Status\", we can see if there is any correlation between the months since last delinquent to the loan status being paid off or not. According to the plot, there is no distinguishable differences between the two variables, thus Months since last delinquent would not contribute much to our prediction model. Therefore, we will drop this column. "
   ]
  },
  {
   "cell_type": "code",
   "execution_count": 20,
   "metadata": {
    "collapsed": false
   },
   "outputs": [],
   "source": [
    "df = df.drop(['Months since last delinquent'], axis = 1)"
   ]
  },
  {
   "cell_type": "markdown",
   "metadata": {},
   "source": [
    "We will now be looking into our remaining null values in \"Maximum Open Credit\", \"Bankruptcies\", and \"Tax Liens\". "
   ]
  },
  {
   "cell_type": "code",
   "execution_count": 21,
   "metadata": {
    "collapsed": false
   },
   "outputs": [
    {
     "name": "stdout",
     "output_type": "stream",
     "text": [
      "Number of missing \"Maximum Open Credit entries\":  3\n"
     ]
    }
   ],
   "source": [
    "columns_nan = df['Maximum Open Credit'].isnull()\n",
    "print 'Number of missing \"Maximum Open Credit entries\": ', len(df[columns_nan])"
   ]
  },
  {
   "cell_type": "markdown",
   "metadata": {},
   "source": [
    "It is safe to say we can drop these three rows as it is not a significant amount to keep."
   ]
  },
  {
   "cell_type": "code",
   "execution_count": 22,
   "metadata": {
    "collapsed": true
   },
   "outputs": [],
   "source": [
    "df = df[df['Maximum Open Credit'].notnull()] # drops rows in Maximum Open Credit with null values"
   ]
  },
  {
   "cell_type": "code",
   "execution_count": 23,
   "metadata": {
    "collapsed": false
   },
   "outputs": [
    {
     "data": {
      "text/plain": [
       "Fully Paid     293\n",
       "Charged Off    120\n",
       "Name: Loan Status, dtype: int64"
      ]
     },
     "execution_count": 23,
     "metadata": {},
     "output_type": "execute_result"
    }
   ],
   "source": [
    "columns_nan = df['Bankruptcies'].isnull()\n",
    "df[columns_nan]['Loan Status'].value_counts()"
   ]
  },
  {
   "cell_type": "code",
   "execution_count": 24,
   "metadata": {
    "collapsed": false
   },
   "outputs": [
    {
     "data": {
      "text/plain": [
       "<matplotlib.text.Text at 0x107f0320>"
      ]
     },
     "execution_count": 24,
     "metadata": {},
     "output_type": "execute_result"
    },
    {
     "data": {
      "image/png": "[encoded data removed]",
      "text/plain": [
       "<matplotlib.figure.Figure at 0x8d5cba8>"
      ]
     },
     "metadata": {},
     "output_type": "display_data"
    }
   ],
   "source": [
    "# Prepare data for plotting\n",
    "df2 = df[df['Bankruptcies'].notnull()] # makes new data frame without null values\n",
    "x = df2['Bankruptcies']\n",
    "y = df2['Loan Status'].map(lambda x: 1 if x == 'Fully Paid' else 0)\n",
    "\n",
    "# make the plot\n",
    "fig = plt.figure()\n",
    "ax = fig.add_subplot(111)  \n",
    "ax.scatter(x, y)\n",
    "ax.set_ylabel('Loan Status', fontsize=20)  \n",
    "ax.set_xlabel('Bankruptcies', fontsize=20)"
   ]
  },
  {
   "cell_type": "code",
   "execution_count": 25,
   "metadata": {
    "collapsed": false
   },
   "outputs": [
    {
     "data": {
      "text/plain": [
       "Fully Paid     14\n",
       "Charged Off     1\n",
       "Name: Loan Status, dtype: int64"
      ]
     },
     "execution_count": 25,
     "metadata": {},
     "output_type": "execute_result"
    }
   ],
   "source": [
    "columns_nan = df['Tax Liens'].isnull()\n",
    "df[columns_nan]['Loan Status'].value_counts()"
   ]
  },
  {
   "cell_type": "code",
   "execution_count": 26,
   "metadata": {
    "collapsed": false
   },
   "outputs": [
    {
     "data": {
      "text/plain": [
       "<matplotlib.text.Text at 0x109a1eb8>"
      ]
     },
     "execution_count": 26,
     "metadata": {},
     "output_type": "execute_result"
    },
    {
     "data": {
      "image/png": "[encoded data removed]",
      "text/plain": [
       "<matplotlib.figure.Figure at 0x660d978>"
      ]
     },
     "metadata": {},
     "output_type": "display_data"
    }
   ],
   "source": [
    "# Prepare data for plotting\n",
    "df2 = df[df['Tax Liens'].notnull()] # makes new data frame without null values\n",
    "x = df2['Tax Liens']\n",
    "y = df2['Loan Status'].map(lambda x: 1 if x == 'Fully Paid' else 0)\n",
    "\n",
    "# make the plot\n",
    "fig = plt.figure()\n",
    "ax = fig.add_subplot(111)  \n",
    "ax.scatter(x, y)\n",
    "ax.set_ylabel('Loan Status', fontsize=20)  \n",
    "ax.set_xlabel('Tax Liens', fontsize=20)"
   ]
  },
  {
   "cell_type": "markdown",
   "metadata": {},
   "source": [
    "Looking at both Bankruptcies and Tax Liens, there does not seem to be much data missing relative to the 195,000. Also, plotting them against loan status does not show any noticeable correlations. Therefore, we will be dropping the null rows for these variables as well. "
   ]
  },
  {
   "cell_type": "code",
   "execution_count": 27,
   "metadata": {
    "collapsed": false
   },
   "outputs": [
    {
     "name": "stdout",
     "output_type": "stream",
     "text": [
      "<class 'pandas.core.frame.DataFrame'>\n",
      "Int64Index: 194892 entries, 0 to 256983\n",
      "Data columns (total 18 columns):\n",
      "Loan ID                      194892 non-null object\n",
      "Customer ID                  194892 non-null object\n",
      "Loan Status                  194892 non-null object\n",
      "Current Loan Amount          194892 non-null int64\n",
      "Term                         194892 non-null object\n",
      "Credit Score                 194892 non-null int64\n",
      "Years in current job         194892 non-null object\n",
      "Home Ownership               194892 non-null object\n",
      "Annual Income                194892 non-null float64\n",
      "Purpose                      194892 non-null object\n",
      "Monthly Debt                 194892 non-null float64\n",
      "Years of Credit History      194892 non-null float64\n",
      "Number of Open Accounts      194892 non-null int64\n",
      "Number of Credit Problems    194892 non-null int64\n",
      "Current Credit Balance       194892 non-null int64\n",
      "Maximum Open Credit          194892 non-null float64\n",
      "Bankruptcies                 194892 non-null float64\n",
      "Tax Liens                    194892 non-null float64\n",
      "dtypes: float64(6), int64(5), object(7)\n",
      "memory usage: 28.3+ MB\n"
     ]
    }
   ],
   "source": [
    "df = df[df['Bankruptcies'].notnull()] # drops rows in Maximum Open Credit with null values\n",
    "df = df[df['Tax Liens'].notnull()] # drops rows in Maximum Open Credit with null values\n",
    "df.info()"
   ]
  },
  {
   "cell_type": "markdown",
   "metadata": {},
   "source": [
    "Okay, it looks like our data is completely filled in. Let's check the Loan ID and Customer ID make sure there are no duplicate entries. "
   ]
  },
  {
   "cell_type": "code",
   "execution_count": 28,
   "metadata": {
    "collapsed": false
   },
   "outputs": [
    {
     "name": "stdout",
     "output_type": "stream",
     "text": [
      "Total unique Loan IDs:  170835\n",
      "Total unique Customer IDs:  170835\n",
      "Total entries:  194892\n"
     ]
    }
   ],
   "source": [
    "print \"Total unique Loan IDs: \", df['Loan ID'].nunique()\n",
    "print \"Total unique Customer IDs: \", df['Customer ID'].nunique()\n",
    "print \"Total entries: \", len(df)"
   ]
  },
  {
   "cell_type": "markdown",
   "metadata": {},
   "source": [
    "Out of 194,892 entries, only 170,835 of them are unique. This means there are multiple entries containing the same ID. Let's take a closer look."
   ]
  },
  {
   "cell_type": "code",
   "execution_count": 29,
   "metadata": {
    "collapsed": false
   },
   "outputs": [
    {
     "data": {
      "text/plain": [
       "85dde351-7130-4c8e-8d34-a6bed6bb9aa8    4\n",
       "894642e4-f97b-4fbf-ad0b-f5ecf3eae6aa    4\n",
       "bb509d0d-ceed-4ffd-af4b-f516685a5bb0    4\n",
       "abb66a15-c832-471c-9c86-91f40d8f9f30    4\n",
       "75c5dae4-63aa-46e5-bdc7-00886d4d3198    4\n",
       "03978b58-b9b6-4dea-a15b-b7bbf51f931d    4\n",
       "deb3dbc6-c53b-48c3-b97a-8b8d12184728    4\n",
       "6c1ae3f8-4c88-4436-b950-b5fa7965d240    4\n",
       "121bb61b-4120-40e6-8342-b5019efce3b9    4\n",
       "04ceb462-3563-4269-8660-ed5e7ee0f1e2    4\n",
       "1d5cf9d9-f0ea-4676-bd3a-4e2f94fd68ab    4\n",
       "f61effee-490b-46b4-abaf-8481f401db12    4\n",
       "6e766ede-75e9-4b26-b781-e268faf258f0    4\n",
       "5d4a0dae-d086-4332-a587-24b8671852db    4\n",
       "363de87b-b8f5-435c-ad02-800ea9f5fa37    4\n",
       "86b77e9a-16fc-4c38-bb88-a58445c14224    4\n",
       "61258159-7492-4b04-b36e-b2b6abcf7f7d    4\n",
       "ee54cde9-de2d-442f-b098-e43c82c3910f    4\n",
       "ce2dc303-1f74-48ef-b6c1-7d471c010833    4\n",
       "5e92f656-cdd8-4ab5-961f-ad30a1115871    4\n",
       "7957fbf5-4a25-46fd-9f0f-3491084e62a4    4\n",
       "280ff85d-e572-4f7f-91b2-68ce2eeb359a    4\n",
       "10f1fae7-da0e-41b2-8224-16c592ad88c8    4\n",
       "a2f45ad3-c591-4710-96a8-8ae9abb4a202    4\n",
       "1eb1b2f9-25a0-4e49-8bd3-70d8d0791ab8    4\n",
       "80e46b94-302f-4a34-8c14-2898969ff287    4\n",
       "ebf271f7-0633-412c-8bcc-21a8f62214e6    4\n",
       "5fbd4302-3962-4563-a5a8-7b14010db312    4\n",
       "435fb4f4-b4fd-43cf-b380-ed85a3d04099    4\n",
       "1fb65db2-8e97-41ac-85e6-3def0636fd7a    4\n",
       "                                       ..\n",
       "606205d9-5a51-4f0c-a191-d99c1325184b    1\n",
       "3cf42b8a-36b1-43e3-bff0-0f838adef096    1\n",
       "6683913d-0cb4-4f5c-ac1d-8216b723b617    1\n",
       "93ef2da1-8002-4a7f-b15a-92948c7d1385    1\n",
       "23f6baa7-da4c-4606-a21b-a49fe5b5f729    1\n",
       "c8afa1f4-0dc7-495d-9105-2b1fc90df572    1\n",
       "fcee9523-4a7f-47cb-8517-fe52100d5665    1\n",
       "e5294ebc-e57c-42e9-85e0-e292e5bd78c4    1\n",
       "e5fae62e-2d41-4863-baa8-67824391b15e    1\n",
       "d4da118f-998f-4e4d-b0ce-83a17aca34ce    1\n",
       "b46dc182-1e09-4c7f-a9e5-e008e754a0f5    1\n",
       "544d02dd-0574-4c60-a262-cbafd8ac0915    1\n",
       "5059e91c-ba6b-40ae-80dc-acdc4d2508ee    1\n",
       "fc2feff0-d534-433d-b2a6-7c855a4cd8e1    1\n",
       "b65d23c1-0d3d-4f22-b012-de34cf16fe35    1\n",
       "eaff326d-0144-40f7-9c30-539212c5f1b2    1\n",
       "d2cc8007-22a3-40fd-ae04-72def100828e    1\n",
       "454b97f7-a2d0-4a42-ac4b-0411de89b612    1\n",
       "b7865d5f-29b1-4fab-9f62-b01f012db6c4    1\n",
       "49ea3c9f-fffa-4457-ad91-0c21ffc41d9b    1\n",
       "c285b6e7-9f7b-4cf5-bc2e-e9f99a5714bd    1\n",
       "cdf9812a-6563-4f64-ab76-0b2a8c2e797f    1\n",
       "d2f54bfc-5905-493f-9d0e-d5040cb8bdc2    1\n",
       "72ee9f81-2ebf-4d03-afed-7e892375b477    1\n",
       "0336e84f-6d16-4371-aab7-ff46678d7004    1\n",
       "a59a48e2-3ca5-4afc-a469-f903dbe6462f    1\n",
       "d1115c23-df2e-46bf-9b2f-df8c0794bb50    1\n",
       "9e94a24c-ec30-4f0d-84c5-2092a238693f    1\n",
       "fdc40107-3115-4ed6-bad9-2b4068bc75b4    1\n",
       "ccdbe83d-556a-4a64-9523-572c9de6aa58    1\n",
       "Name: Loan ID, dtype: int64"
      ]
     },
     "execution_count": 29,
     "metadata": {},
     "output_type": "execute_result"
    }
   ],
   "source": [
    "df['Loan ID'].value_counts()"
   ]
  },
  {
   "cell_type": "markdown",
   "metadata": {},
   "source": [
    "Looking at the value counts, there appears to be many duplicate values. These values can be dropped using the drop_duplicates function. "
   ]
  },
  {
   "cell_type": "code",
   "execution_count": 30,
   "metadata": {
    "collapsed": true
   },
   "outputs": [],
   "source": [
    "df = df.drop_duplicates(['Loan ID']) # drops duplicate ID values"
   ]
  },
  {
   "cell_type": "code",
   "execution_count": 31,
   "metadata": {
    "collapsed": false
   },
   "outputs": [
    {
     "name": "stdout",
     "output_type": "stream",
     "text": [
      "Total unique Loan IDs:  170835\n",
      "Total unique Customer IDs:  170835\n",
      "Total entries:  170835\n"
     ]
    }
   ],
   "source": [
    "print \"Total unique Loan IDs: \", df['Loan ID'].nunique()\n",
    "print \"Total unique Customer IDs: \", df['Customer ID'].nunique()\n",
    "print \"Total entries: \", len(df)"
   ]
  },
  {
   "cell_type": "code",
   "execution_count": 32,
   "metadata": {
    "collapsed": false
   },
   "outputs": [
    {
     "name": "stdout",
     "output_type": "stream",
     "text": [
      "<class 'pandas.core.frame.DataFrame'>\n",
      "Int64Index: 170835 entries, 0 to 256983\n",
      "Data columns (total 18 columns):\n",
      "Loan ID                      170835 non-null object\n",
      "Customer ID                  170835 non-null object\n",
      "Loan Status                  170835 non-null object\n",
      "Current Loan Amount          170835 non-null int64\n",
      "Term                         170835 non-null object\n",
      "Credit Score                 170835 non-null int64\n",
      "Years in current job         170835 non-null object\n",
      "Home Ownership               170835 non-null object\n",
      "Annual Income                170835 non-null float64\n",
      "Purpose                      170835 non-null object\n",
      "Monthly Debt                 170835 non-null float64\n",
      "Years of Credit History      170835 non-null float64\n",
      "Number of Open Accounts      170835 non-null int64\n",
      "Number of Credit Problems    170835 non-null int64\n",
      "Current Credit Balance       170835 non-null int64\n",
      "Maximum Open Credit          170835 non-null float64\n",
      "Bankruptcies                 170835 non-null float64\n",
      "Tax Liens                    170835 non-null float64\n",
      "dtypes: float64(6), int64(5), object(7)\n",
      "memory usage: 24.8+ MB\n"
     ]
    }
   ],
   "source": [
    "df.info()"
   ]
  },
  {
   "cell_type": "markdown",
   "metadata": {},
   "source": [
    "Years in current job is an ordinal variable, which means that its categorical value can be treated as numeric since having greater years of experience in a current job would increase chance of loan grants due to career stability of the customer. n/a and \\<1 will be converted to 0 since there is not much difference between the two.  "
   ]
  },
  {
   "cell_type": "code",
   "execution_count": 33,
   "metadata": {
    "collapsed": false
   },
   "outputs": [],
   "source": [
    "df['Years in current job'] = df['Years in current job'].map(lambda x: '0' if x == 'n/a' else x) # convert n/a and <1 to 0\n",
    "df['Years in current job'] = df['Years in current job'].map(lambda x: '0' if x == '< 1 year' else x)\n",
    "df['Years in current job'] = df['Years in current job'].replace( '[\\+ years]','', regex=True).astype(np.int64) # removes the strings and convert to int"
   ]
  },
  {
   "cell_type": "code",
   "execution_count": 34,
   "metadata": {
    "collapsed": false
   },
   "outputs": [
    {
     "data": {
      "text/plain": [
       "array([10,  4,  6,  0,  3,  2,  5,  1,  7,  9,  8], dtype=int64)"
      ]
     },
     "execution_count": 34,
     "metadata": {},
     "output_type": "execute_result"
    }
   ],
   "source": [
    "df['Years in current job'].unique()"
   ]
  },
  {
   "cell_type": "markdown",
   "metadata": {},
   "source": [
    "Last thing to check is if \"Current Loan Amount\" is input correctly. To do this, lets filter out anyone taking a loan amount over $100,000 and see what we get. "
   ]
  },
  {
   "cell_type": "code",
   "execution_count": 35,
   "metadata": {
    "collapsed": false
   },
   "outputs": [
    {
     "data": {
      "text/html": [
       "<div>\n",
       "<table border=\"1\" class=\"dataframe\">\n",
       "  <thead>\n",
       "    <tr style=\"text-align: right;\">\n",
       "      <th></th>\n",
       "      <th>Loan ID</th>\n",
       "      <th>Customer ID</th>\n",
       "      <th>Loan Status</th>\n",
       "      <th>Current Loan Amount</th>\n",
       "      <th>Term</th>\n",
       "      <th>Credit Score</th>\n",
       "      <th>Years in current job</th>\n",
       "      <th>Home Ownership</th>\n",
       "      <th>Annual Income</th>\n",
       "      <th>Purpose</th>\n",
       "      <th>Monthly Debt</th>\n",
       "      <th>Years of Credit History</th>\n",
       "      <th>Number of Open Accounts</th>\n",
       "      <th>Number of Credit Problems</th>\n",
       "      <th>Current Credit Balance</th>\n",
       "      <th>Maximum Open Credit</th>\n",
       "      <th>Bankruptcies</th>\n",
       "      <th>Tax Liens</th>\n",
       "    </tr>\n",
       "  </thead>\n",
       "  <tbody>\n",
       "    <tr>\n",
       "      <th>10</th>\n",
       "      <td>00020fb0-6b8a-4b3a-8c72-9c4c847e8cb6</td>\n",
       "      <td>c9decd06-16f7-44c3-b007-8776f2a9233d</td>\n",
       "      <td>Fully Paid</td>\n",
       "      <td>99999999</td>\n",
       "      <td>Short Term</td>\n",
       "      <td>742</td>\n",
       "      <td>3</td>\n",
       "      <td>Home Mortgage</td>\n",
       "      <td>64760.0</td>\n",
       "      <td>Debt Consolidation</td>\n",
       "      <td>582.84</td>\n",
       "      <td>26.8</td>\n",
       "      <td>11</td>\n",
       "      <td>0</td>\n",
       "      <td>8880</td>\n",
       "      <td>22711.0</td>\n",
       "      <td>0.0</td>\n",
       "      <td>0.0</td>\n",
       "    </tr>\n",
       "    <tr>\n",
       "      <th>16</th>\n",
       "      <td>0002c691-5314-44ab-b205-3fb1cc4ee6b2</td>\n",
       "      <td>41207d1e-5d13-43ec-9fe9-f222b4da5e0c</td>\n",
       "      <td>Fully Paid</td>\n",
       "      <td>99999999</td>\n",
       "      <td>Short Term</td>\n",
       "      <td>744</td>\n",
       "      <td>6</td>\n",
       "      <td>Home Mortgage</td>\n",
       "      <td>65605.0</td>\n",
       "      <td>Debt Consolidation</td>\n",
       "      <td>984.07</td>\n",
       "      <td>21.0</td>\n",
       "      <td>5</td>\n",
       "      <td>1</td>\n",
       "      <td>11514</td>\n",
       "      <td>17262.0</td>\n",
       "      <td>1.0</td>\n",
       "      <td>0.0</td>\n",
       "    </tr>\n",
       "    <tr>\n",
       "      <th>23</th>\n",
       "      <td>0003fbfd-33ee-4ae9-8074-b46f6ff59281</td>\n",
       "      <td>c14bbc84-5041-4e70-bd64-3db51f7e80ae</td>\n",
       "      <td>Fully Paid</td>\n",
       "      <td>99999999</td>\n",
       "      <td>Short Term</td>\n",
       "      <td>745</td>\n",
       "      <td>10</td>\n",
       "      <td>Rent</td>\n",
       "      <td>39476.0</td>\n",
       "      <td>Other</td>\n",
       "      <td>483.58</td>\n",
       "      <td>15.4</td>\n",
       "      <td>12</td>\n",
       "      <td>0</td>\n",
       "      <td>4636</td>\n",
       "      <td>21171.0</td>\n",
       "      <td>0.0</td>\n",
       "      <td>0.0</td>\n",
       "    </tr>\n",
       "    <tr>\n",
       "      <th>28</th>\n",
       "      <td>0004f37b-5859-40f6-98d0-367aa3b3f3f1</td>\n",
       "      <td>f662b062-5fa5-463d-b5c0-4e36d09fcab1</td>\n",
       "      <td>Fully Paid</td>\n",
       "      <td>99999999</td>\n",
       "      <td>Short Term</td>\n",
       "      <td>724</td>\n",
       "      <td>1</td>\n",
       "      <td>Own Home</td>\n",
       "      <td>34297.0</td>\n",
       "      <td>Home Improvements</td>\n",
       "      <td>777.38</td>\n",
       "      <td>13.6</td>\n",
       "      <td>12</td>\n",
       "      <td>0</td>\n",
       "      <td>6720</td>\n",
       "      <td>53335.0</td>\n",
       "      <td>0.0</td>\n",
       "      <td>0.0</td>\n",
       "    </tr>\n",
       "    <tr>\n",
       "      <th>42</th>\n",
       "      <td>0008cacc-1ea9-4599-b114-12709b13c85d</td>\n",
       "      <td>cd853967-4535-4d36-bf93-269504c74911</td>\n",
       "      <td>Fully Paid</td>\n",
       "      <td>99999999</td>\n",
       "      <td>Short Term</td>\n",
       "      <td>750</td>\n",
       "      <td>10</td>\n",
       "      <td>Own Home</td>\n",
       "      <td>86785.0</td>\n",
       "      <td>Other</td>\n",
       "      <td>56.41</td>\n",
       "      <td>22.0</td>\n",
       "      <td>7</td>\n",
       "      <td>0</td>\n",
       "      <td>3959</td>\n",
       "      <td>63862.0</td>\n",
       "      <td>0.0</td>\n",
       "      <td>0.0</td>\n",
       "    </tr>\n",
       "  </tbody>\n",
       "</table>\n",
       "</div>"
      ],
      "text/plain": [
       "                                 Loan ID  \\\n",
       "10  00020fb0-6b8a-4b3a-8c72-9c4c847e8cb6   \n",
       "16  0002c691-5314-44ab-b205-3fb1cc4ee6b2   \n",
       "23  0003fbfd-33ee-4ae9-8074-b46f6ff59281   \n",
       "28  0004f37b-5859-40f6-98d0-367aa3b3f3f1   \n",
       "42  0008cacc-1ea9-4599-b114-12709b13c85d   \n",
       "\n",
       "                             Customer ID Loan Status  Current Loan Amount  \\\n",
       "10  c9decd06-16f7-44c3-b007-8776f2a9233d  Fully Paid             99999999   \n",
       "16  41207d1e-5d13-43ec-9fe9-f222b4da5e0c  Fully Paid             99999999   \n",
       "23  c14bbc84-5041-4e70-bd64-3db51f7e80ae  Fully Paid             99999999   \n",
       "28  f662b062-5fa5-463d-b5c0-4e36d09fcab1  Fully Paid             99999999   \n",
       "42  cd853967-4535-4d36-bf93-269504c74911  Fully Paid             99999999   \n",
       "\n",
       "          Term  Credit Score  Years in current job Home Ownership  \\\n",
       "10  Short Term           742                     3  Home Mortgage   \n",
       "16  Short Term           744                     6  Home Mortgage   \n",
       "23  Short Term           745                    10           Rent   \n",
       "28  Short Term           724                     1       Own Home   \n",
       "42  Short Term           750                    10       Own Home   \n",
       "\n",
       "    Annual Income             Purpose  Monthly Debt  Years of Credit History  \\\n",
       "10        64760.0  Debt Consolidation        582.84                     26.8   \n",
       "16        65605.0  Debt Consolidation        984.07                     21.0   \n",
       "23        39476.0               Other        483.58                     15.4   \n",
       "28        34297.0   Home Improvements        777.38                     13.6   \n",
       "42        86785.0               Other         56.41                     22.0   \n",
       "\n",
       "    Number of Open Accounts  Number of Credit Problems  \\\n",
       "10                       11                          0   \n",
       "16                        5                          1   \n",
       "23                       12                          0   \n",
       "28                       12                          0   \n",
       "42                        7                          0   \n",
       "\n",
       "    Current Credit Balance  Maximum Open Credit  Bankruptcies  Tax Liens  \n",
       "10                    8880              22711.0           0.0        0.0  \n",
       "16                   11514              17262.0           1.0        0.0  \n",
       "23                    4636              21171.0           0.0        0.0  \n",
       "28                    6720              53335.0           0.0        0.0  \n",
       "42                    3959              63862.0           0.0        0.0  "
      ]
     },
     "execution_count": 35,
     "metadata": {},
     "output_type": "execute_result"
    }
   ],
   "source": [
    "df[(df['Current Loan Amount'] > 100000)].head()"
   ]
  },
  {
   "cell_type": "markdown",
   "metadata": {},
   "source": [
    "Interesting... this is obviously an input error seeing as the first 5 rows are taking a loan of \\$99,999,999 with an annual income between \\$30,000 to \\$90,0000. These rows will be dropped. "
   ]
  },
  {
   "cell_type": "code",
   "execution_count": 36,
   "metadata": {
    "collapsed": true
   },
   "outputs": [],
   "source": [
    "df = df[df['Current Loan Amount'] < 99999999]"
   ]
  },
  {
   "cell_type": "code",
   "execution_count": 37,
   "metadata": {
    "collapsed": false
   },
   "outputs": [
    {
     "data": {
      "text/html": [
       "<div>\n",
       "<table border=\"1\" class=\"dataframe\">\n",
       "  <thead>\n",
       "    <tr style=\"text-align: right;\">\n",
       "      <th></th>\n",
       "      <th>Loan ID</th>\n",
       "      <th>Customer ID</th>\n",
       "      <th>Loan Status</th>\n",
       "      <th>Current Loan Amount</th>\n",
       "      <th>Term</th>\n",
       "      <th>Credit Score</th>\n",
       "      <th>Years in current job</th>\n",
       "      <th>Home Ownership</th>\n",
       "      <th>Annual Income</th>\n",
       "      <th>Purpose</th>\n",
       "      <th>Monthly Debt</th>\n",
       "      <th>Years of Credit History</th>\n",
       "      <th>Number of Open Accounts</th>\n",
       "      <th>Number of Credit Problems</th>\n",
       "      <th>Current Credit Balance</th>\n",
       "      <th>Maximum Open Credit</th>\n",
       "      <th>Bankruptcies</th>\n",
       "      <th>Tax Liens</th>\n",
       "    </tr>\n",
       "  </thead>\n",
       "  <tbody>\n",
       "  </tbody>\n",
       "</table>\n",
       "</div>"
      ],
      "text/plain": [
       "Empty DataFrame\n",
       "Columns: [Loan ID, Customer ID, Loan Status, Current Loan Amount, Term, Credit Score, Years in current job, Home Ownership, Annual Income, Purpose, Monthly Debt, Years of Credit History, Number of Open Accounts, Number of Credit Problems, Current Credit Balance, Maximum Open Credit, Bankruptcies, Tax Liens]\n",
       "Index: []"
      ]
     },
     "execution_count": 37,
     "metadata": {},
     "output_type": "execute_result"
    }
   ],
   "source": [
    "df[(df['Current Loan Amount'] > 100000)].head()"
   ]
  },
  {
   "cell_type": "markdown",
   "metadata": {},
   "source": [
    "It looks like we can do some feature engineering here. Let's make a new feature called 'Credit Utilization', which will be made taking the divided by the 'Current Credit Balance' and 'Maximum Open Credit'."
   ]
  },
  {
   "cell_type": "code",
   "execution_count": 38,
   "metadata": {
    "collapsed": true
   },
   "outputs": [],
   "source": [
    "df['Credit Utilization'] = df['Current Credit Balance'].div(df['Maximum Open Credit'] + 1, axis='index')"
   ]
  },
  {
   "cell_type": "markdown",
   "metadata": {},
   "source": [
    "Now the data is all cleaned up. It's time to prepare our data for modeling! First the columns need to be renamed to make it simpler for making dummy variables and preventing problems with spaces in the column names. "
   ]
  },
  {
   "cell_type": "code",
   "execution_count": 39,
   "metadata": {
    "collapsed": true
   },
   "outputs": [],
   "source": [
    "df['Loan Status'] = df['Loan Status'].map(lambda x: 1 if x == 'Fully Paid' else 0) # converts to binary output for easy modeling"
   ]
  },
  {
   "cell_type": "code",
   "execution_count": 40,
   "metadata": {
    "collapsed": false
   },
   "outputs": [
    {
     "data": {
      "text/html": [
       "<div>\n",
       "<table border=\"1\" class=\"dataframe\">\n",
       "  <thead>\n",
       "    <tr style=\"text-align: right;\">\n",
       "      <th></th>\n",
       "      <th>Loan ID</th>\n",
       "      <th>Customer ID</th>\n",
       "      <th>y</th>\n",
       "      <th>x1</th>\n",
       "      <th>x2</th>\n",
       "      <th>x3</th>\n",
       "      <th>x4</th>\n",
       "      <th>x5</th>\n",
       "      <th>x6</th>\n",
       "      <th>x7</th>\n",
       "      <th>x8</th>\n",
       "      <th>x9</th>\n",
       "      <th>x10</th>\n",
       "      <th>x11</th>\n",
       "      <th>x12</th>\n",
       "      <th>x13</th>\n",
       "      <th>x14</th>\n",
       "      <th>x15</th>\n",
       "      <th>x16</th>\n",
       "    </tr>\n",
       "  </thead>\n",
       "  <tbody>\n",
       "    <tr>\n",
       "      <th>0</th>\n",
       "      <td>000025bb-5694-4cff-b17d-192b1a98ba44</td>\n",
       "      <td>5ebc8bb1-5eb9-4404-b11b-a6eebc401a19</td>\n",
       "      <td>1</td>\n",
       "      <td>11520</td>\n",
       "      <td>Short Term</td>\n",
       "      <td>741</td>\n",
       "      <td>10</td>\n",
       "      <td>Home Mortgage</td>\n",
       "      <td>33694.0</td>\n",
       "      <td>Debt Consolidation</td>\n",
       "      <td>584.03</td>\n",
       "      <td>12.3</td>\n",
       "      <td>10</td>\n",
       "      <td>0</td>\n",
       "      <td>6760</td>\n",
       "      <td>16056.0</td>\n",
       "      <td>0.0</td>\n",
       "      <td>0.0</td>\n",
       "      <td>0.421000</td>\n",
       "    </tr>\n",
       "    <tr>\n",
       "      <th>1</th>\n",
       "      <td>00002c49-3a29-4bd4-8f67-c8f8fbc1048c</td>\n",
       "      <td>927b388d-2e01-423f-a8dc-f7e42d668f46</td>\n",
       "      <td>1</td>\n",
       "      <td>3441</td>\n",
       "      <td>Short Term</td>\n",
       "      <td>734</td>\n",
       "      <td>4</td>\n",
       "      <td>Home Mortgage</td>\n",
       "      <td>42269.0</td>\n",
       "      <td>Other</td>\n",
       "      <td>1106.04</td>\n",
       "      <td>26.3</td>\n",
       "      <td>17</td>\n",
       "      <td>0</td>\n",
       "      <td>6262</td>\n",
       "      <td>19149.0</td>\n",
       "      <td>0.0</td>\n",
       "      <td>0.0</td>\n",
       "      <td>0.326997</td>\n",
       "    </tr>\n",
       "    <tr>\n",
       "      <th>2</th>\n",
       "      <td>00002d89-27f3-409b-aa76-90834f359a65</td>\n",
       "      <td>defce609-c631-447d-aad6-1270615e89c4</td>\n",
       "      <td>1</td>\n",
       "      <td>21029</td>\n",
       "      <td>Short Term</td>\n",
       "      <td>747</td>\n",
       "      <td>10</td>\n",
       "      <td>Home Mortgage</td>\n",
       "      <td>90126.0</td>\n",
       "      <td>Debt Consolidation</td>\n",
       "      <td>1321.85</td>\n",
       "      <td>28.8</td>\n",
       "      <td>5</td>\n",
       "      <td>0</td>\n",
       "      <td>20967</td>\n",
       "      <td>28335.0</td>\n",
       "      <td>0.0</td>\n",
       "      <td>0.0</td>\n",
       "      <td>0.739942</td>\n",
       "    </tr>\n",
       "    <tr>\n",
       "      <th>3</th>\n",
       "      <td>00005222-b4d8-45a4-ad8c-186057e24233</td>\n",
       "      <td>070bcecb-aae7-4485-a26a-e0403e7bb6c5</td>\n",
       "      <td>1</td>\n",
       "      <td>18743</td>\n",
       "      <td>Short Term</td>\n",
       "      <td>747</td>\n",
       "      <td>10</td>\n",
       "      <td>Own Home</td>\n",
       "      <td>38072.0</td>\n",
       "      <td>Debt Consolidation</td>\n",
       "      <td>751.92</td>\n",
       "      <td>26.2</td>\n",
       "      <td>9</td>\n",
       "      <td>0</td>\n",
       "      <td>22529</td>\n",
       "      <td>43915.0</td>\n",
       "      <td>0.0</td>\n",
       "      <td>0.0</td>\n",
       "      <td>0.513002</td>\n",
       "    </tr>\n",
       "    <tr>\n",
       "      <th>4</th>\n",
       "      <td>0000757f-a121-41ed-b17b-162e76647c1f</td>\n",
       "      <td>dde79588-12f0-4811-bab0-e2b07f633fcd</td>\n",
       "      <td>1</td>\n",
       "      <td>11731</td>\n",
       "      <td>Short Term</td>\n",
       "      <td>746</td>\n",
       "      <td>4</td>\n",
       "      <td>Rent</td>\n",
       "      <td>50025.0</td>\n",
       "      <td>Debt Consolidation</td>\n",
       "      <td>355.18</td>\n",
       "      <td>11.5</td>\n",
       "      <td>12</td>\n",
       "      <td>0</td>\n",
       "      <td>17391</td>\n",
       "      <td>37081.0</td>\n",
       "      <td>0.0</td>\n",
       "      <td>0.0</td>\n",
       "      <td>0.468988</td>\n",
       "    </tr>\n",
       "  </tbody>\n",
       "</table>\n",
       "</div>"
      ],
      "text/plain": [
       "                                Loan ID                           Customer ID  \\\n",
       "0  000025bb-5694-4cff-b17d-192b1a98ba44  5ebc8bb1-5eb9-4404-b11b-a6eebc401a19   \n",
       "1  00002c49-3a29-4bd4-8f67-c8f8fbc1048c  927b388d-2e01-423f-a8dc-f7e42d668f46   \n",
       "2  00002d89-27f3-409b-aa76-90834f359a65  defce609-c631-447d-aad6-1270615e89c4   \n",
       "3  00005222-b4d8-45a4-ad8c-186057e24233  070bcecb-aae7-4485-a26a-e0403e7bb6c5   \n",
       "4  0000757f-a121-41ed-b17b-162e76647c1f  dde79588-12f0-4811-bab0-e2b07f633fcd   \n",
       "\n",
       "   y     x1          x2   x3  x4             x5       x6                  x7  \\\n",
       "0  1  11520  Short Term  741  10  Home Mortgage  33694.0  Debt Consolidation   \n",
       "1  1   3441  Short Term  734   4  Home Mortgage  42269.0               Other   \n",
       "2  1  21029  Short Term  747  10  Home Mortgage  90126.0  Debt Consolidation   \n",
       "3  1  18743  Short Term  747  10       Own Home  38072.0  Debt Consolidation   \n",
       "4  1  11731  Short Term  746   4           Rent  50025.0  Debt Consolidation   \n",
       "\n",
       "        x8    x9  x10  x11    x12      x13  x14  x15       x16  \n",
       "0   584.03  12.3   10    0   6760  16056.0  0.0  0.0  0.421000  \n",
       "1  1106.04  26.3   17    0   6262  19149.0  0.0  0.0  0.326997  \n",
       "2  1321.85  28.8    5    0  20967  28335.0  0.0  0.0  0.739942  \n",
       "3   751.92  26.2    9    0  22529  43915.0  0.0  0.0  0.513002  \n",
       "4   355.18  11.5   12    0  17391  37081.0  0.0  0.0  0.468988  "
      ]
     },
     "execution_count": 40,
     "metadata": {},
     "output_type": "execute_result"
    }
   ],
   "source": [
    "df = df.rename(columns={'Loan Status': 'y', 'Current Loan Amount': 'x1', 'Term': 'x2', 'Credit Score': 'x3', 'Years in current job': 'x4', 'Home Ownership': 'x5', 'Annual Income': 'x6', 'Purpose': 'x7', 'Monthly Debt': 'x8', 'Years of Credit History': 'x9', 'Number of Open Accounts': 'x10', 'Number of Credit Problems': 'x11', 'Current Credit Balance': 'x12', 'Maximum Open Credit': 'x13', 'Bankruptcies': 'x14', 'Tax Liens': 'x15', 'Credit Utilization': 'x16'})\n",
    "df.head()"
   ]
  },
  {
   "cell_type": "markdown",
   "metadata": {},
   "source": [
    "Here is a list of the columns and what they mean:\n",
    "\n",
    "|Column Name | Variable Name| Data Type|\n",
    "|---|---|---|\n",
    "|Loan Status|y| categorical|\n",
    "|Current Loan Amount| x1| numeric|\n",
    "|Term| x2| categorical|\n",
    "|Credit Score| x3| numeric|\n",
    "|Years in current job| x4| ordinal|\n",
    "|Home Ownership| x5| categorical|\n",
    "|Annual Income| x6| numeric|\n",
    "|Purpose| x7| categorical|\n",
    "|Monthly Debt| x8| numeric|\n",
    "|Years of Credit History| x9| numeric|\n",
    "|Number of Open Accounts| x10| numeric|\n",
    "|Number of Credit Problems| x11| numeric|\n",
    "|Current Credit Balance| x12| numeric|\n",
    "|Maximum Open Credit| x13| numeric|\n",
    "|Bankruptcies| x14| numeric|\n",
    "|Tax Liens| x15| numeric|\n",
    "|Credit Utilization| x16| numeric|"
   ]
  },
  {
   "cell_type": "code",
   "execution_count": 41,
   "metadata": {
    "collapsed": false
   },
   "outputs": [
    {
     "data": {
      "text/html": [
       "<div>\n",
       "<table border=\"1\" class=\"dataframe\">\n",
       "  <thead>\n",
       "    <tr style=\"text-align: right;\">\n",
       "      <th></th>\n",
       "      <th>Intercept</th>\n",
       "      <th>C(x2)[T.Short Term]</th>\n",
       "      <th>C(x5)[T.Own Home]</th>\n",
       "      <th>C(x5)[T.Rent]</th>\n",
       "      <th>C(x7)[T.Buy House]</th>\n",
       "      <th>C(x7)[T.Buy a Car]</th>\n",
       "      <th>C(x7)[T.Debt Consolidation]</th>\n",
       "      <th>C(x7)[T.Educational Expenses]</th>\n",
       "      <th>C(x7)[T.Home Improvements]</th>\n",
       "      <th>C(x7)[T.Medical Bills]</th>\n",
       "      <th>...</th>\n",
       "      <th>x6</th>\n",
       "      <th>x8</th>\n",
       "      <th>x9</th>\n",
       "      <th>x10</th>\n",
       "      <th>x11</th>\n",
       "      <th>x12</th>\n",
       "      <th>x13</th>\n",
       "      <th>x14</th>\n",
       "      <th>x15</th>\n",
       "      <th>x16</th>\n",
       "    </tr>\n",
       "  </thead>\n",
       "  <tbody>\n",
       "    <tr>\n",
       "      <th>0</th>\n",
       "      <td>1.0</td>\n",
       "      <td>1.0</td>\n",
       "      <td>0.0</td>\n",
       "      <td>0.0</td>\n",
       "      <td>0.0</td>\n",
       "      <td>0.0</td>\n",
       "      <td>1.0</td>\n",
       "      <td>0.0</td>\n",
       "      <td>0.0</td>\n",
       "      <td>0.0</td>\n",
       "      <td>...</td>\n",
       "      <td>33694.0</td>\n",
       "      <td>584.03</td>\n",
       "      <td>12.3</td>\n",
       "      <td>10.0</td>\n",
       "      <td>0.0</td>\n",
       "      <td>6760.0</td>\n",
       "      <td>16056.0</td>\n",
       "      <td>0.0</td>\n",
       "      <td>0.0</td>\n",
       "      <td>0.421000</td>\n",
       "    </tr>\n",
       "    <tr>\n",
       "      <th>1</th>\n",
       "      <td>1.0</td>\n",
       "      <td>1.0</td>\n",
       "      <td>0.0</td>\n",
       "      <td>0.0</td>\n",
       "      <td>0.0</td>\n",
       "      <td>0.0</td>\n",
       "      <td>0.0</td>\n",
       "      <td>0.0</td>\n",
       "      <td>0.0</td>\n",
       "      <td>0.0</td>\n",
       "      <td>...</td>\n",
       "      <td>42269.0</td>\n",
       "      <td>1106.04</td>\n",
       "      <td>26.3</td>\n",
       "      <td>17.0</td>\n",
       "      <td>0.0</td>\n",
       "      <td>6262.0</td>\n",
       "      <td>19149.0</td>\n",
       "      <td>0.0</td>\n",
       "      <td>0.0</td>\n",
       "      <td>0.326997</td>\n",
       "    </tr>\n",
       "    <tr>\n",
       "      <th>2</th>\n",
       "      <td>1.0</td>\n",
       "      <td>1.0</td>\n",
       "      <td>0.0</td>\n",
       "      <td>0.0</td>\n",
       "      <td>0.0</td>\n",
       "      <td>0.0</td>\n",
       "      <td>1.0</td>\n",
       "      <td>0.0</td>\n",
       "      <td>0.0</td>\n",
       "      <td>0.0</td>\n",
       "      <td>...</td>\n",
       "      <td>90126.0</td>\n",
       "      <td>1321.85</td>\n",
       "      <td>28.8</td>\n",
       "      <td>5.0</td>\n",
       "      <td>0.0</td>\n",
       "      <td>20967.0</td>\n",
       "      <td>28335.0</td>\n",
       "      <td>0.0</td>\n",
       "      <td>0.0</td>\n",
       "      <td>0.739942</td>\n",
       "    </tr>\n",
       "    <tr>\n",
       "      <th>3</th>\n",
       "      <td>1.0</td>\n",
       "      <td>1.0</td>\n",
       "      <td>1.0</td>\n",
       "      <td>0.0</td>\n",
       "      <td>0.0</td>\n",
       "      <td>0.0</td>\n",
       "      <td>1.0</td>\n",
       "      <td>0.0</td>\n",
       "      <td>0.0</td>\n",
       "      <td>0.0</td>\n",
       "      <td>...</td>\n",
       "      <td>38072.0</td>\n",
       "      <td>751.92</td>\n",
       "      <td>26.2</td>\n",
       "      <td>9.0</td>\n",
       "      <td>0.0</td>\n",
       "      <td>22529.0</td>\n",
       "      <td>43915.0</td>\n",
       "      <td>0.0</td>\n",
       "      <td>0.0</td>\n",
       "      <td>0.513002</td>\n",
       "    </tr>\n",
       "    <tr>\n",
       "      <th>4</th>\n",
       "      <td>1.0</td>\n",
       "      <td>1.0</td>\n",
       "      <td>0.0</td>\n",
       "      <td>1.0</td>\n",
       "      <td>0.0</td>\n",
       "      <td>0.0</td>\n",
       "      <td>1.0</td>\n",
       "      <td>0.0</td>\n",
       "      <td>0.0</td>\n",
       "      <td>0.0</td>\n",
       "      <td>...</td>\n",
       "      <td>50025.0</td>\n",
       "      <td>355.18</td>\n",
       "      <td>11.5</td>\n",
       "      <td>12.0</td>\n",
       "      <td>0.0</td>\n",
       "      <td>17391.0</td>\n",
       "      <td>37081.0</td>\n",
       "      <td>0.0</td>\n",
       "      <td>0.0</td>\n",
       "      <td>0.468988</td>\n",
       "    </tr>\n",
       "  </tbody>\n",
       "</table>\n",
       "<p>5 rows × 25 columns</p>\n",
       "</div>"
      ],
      "text/plain": [
       "   Intercept  C(x2)[T.Short Term]  C(x5)[T.Own Home]  C(x5)[T.Rent]  \\\n",
       "0        1.0                  1.0                0.0            0.0   \n",
       "1        1.0                  1.0                0.0            0.0   \n",
       "2        1.0                  1.0                0.0            0.0   \n",
       "3        1.0                  1.0                1.0            0.0   \n",
       "4        1.0                  1.0                0.0            1.0   \n",
       "\n",
       "   C(x7)[T.Buy House]  C(x7)[T.Buy a Car]  C(x7)[T.Debt Consolidation]  \\\n",
       "0                 0.0                 0.0                          1.0   \n",
       "1                 0.0                 0.0                          0.0   \n",
       "2                 0.0                 0.0                          1.0   \n",
       "3                 0.0                 0.0                          1.0   \n",
       "4                 0.0                 0.0                          1.0   \n",
       "\n",
       "   C(x7)[T.Educational Expenses]  C(x7)[T.Home Improvements]  \\\n",
       "0                            0.0                         0.0   \n",
       "1                            0.0                         0.0   \n",
       "2                            0.0                         0.0   \n",
       "3                            0.0                         0.0   \n",
       "4                            0.0                         0.0   \n",
       "\n",
       "   C(x7)[T.Medical Bills]    ...          x6       x8    x9   x10  x11  \\\n",
       "0                     0.0    ...     33694.0   584.03  12.3  10.0  0.0   \n",
       "1                     0.0    ...     42269.0  1106.04  26.3  17.0  0.0   \n",
       "2                     0.0    ...     90126.0  1321.85  28.8   5.0  0.0   \n",
       "3                     0.0    ...     38072.0   751.92  26.2   9.0  0.0   \n",
       "4                     0.0    ...     50025.0   355.18  11.5  12.0  0.0   \n",
       "\n",
       "       x12      x13  x14  x15       x16  \n",
       "0   6760.0  16056.0  0.0  0.0  0.421000  \n",
       "1   6262.0  19149.0  0.0  0.0  0.326997  \n",
       "2  20967.0  28335.0  0.0  0.0  0.739942  \n",
       "3  22529.0  43915.0  0.0  0.0  0.513002  \n",
       "4  17391.0  37081.0  0.0  0.0  0.468988  \n",
       "\n",
       "[5 rows x 25 columns]"
      ]
     },
     "execution_count": 41,
     "metadata": {},
     "output_type": "execute_result"
    }
   ],
   "source": [
    "from patsy import dmatrices\n",
    "# Create the dummy variables for categorical values using dmatrices\n",
    "y, X = dmatrices('y ~ x1 + C(x2) + x3 + x4 + C(x5) + x6 + C(x7) + x8 + x9 + x10 + x11 + x12 + x13 + x14 + x15 + x16', df, return_type = 'dataframe')\n",
    "X.head()"
   ]
  },
  {
   "cell_type": "code",
   "execution_count": 42,
   "metadata": {
    "collapsed": false
   },
   "outputs": [
    {
     "data": {
      "text/html": [
       "<div>\n",
       "<table border=\"1\" class=\"dataframe\">\n",
       "  <thead>\n",
       "    <tr style=\"text-align: right;\">\n",
       "      <th></th>\n",
       "      <th>y</th>\n",
       "    </tr>\n",
       "  </thead>\n",
       "  <tbody>\n",
       "    <tr>\n",
       "      <th>0</th>\n",
       "      <td>1.0</td>\n",
       "    </tr>\n",
       "    <tr>\n",
       "      <th>1</th>\n",
       "      <td>1.0</td>\n",
       "    </tr>\n",
       "    <tr>\n",
       "      <th>2</th>\n",
       "      <td>1.0</td>\n",
       "    </tr>\n",
       "    <tr>\n",
       "      <th>3</th>\n",
       "      <td>1.0</td>\n",
       "    </tr>\n",
       "    <tr>\n",
       "      <th>4</th>\n",
       "      <td>1.0</td>\n",
       "    </tr>\n",
       "  </tbody>\n",
       "</table>\n",
       "</div>"
      ],
      "text/plain": [
       "     y\n",
       "0  1.0\n",
       "1  1.0\n",
       "2  1.0\n",
       "3  1.0\n",
       "4  1.0"
      ]
     },
     "execution_count": 42,
     "metadata": {},
     "output_type": "execute_result"
    }
   ],
   "source": [
    "y.head()"
   ]
  },
  {
   "cell_type": "markdown",
   "metadata": {},
   "source": [
    "## Modeling\n",
    "Since this problem results in a binary output, we will select algorithms that are good at classification: Logistic Regression, Adaboost and Gradient Boosting. "
   ]
  },
  {
   "cell_type": "code",
   "execution_count": 43,
   "metadata": {
    "collapsed": true
   },
   "outputs": [],
   "source": [
    "# Split the data into 70% Training Data and 30% Testing Data with seed(0)\n",
    "from sklearn.cross_validation import train_test_split\n",
    "X_train, X_test, y_train, y_test = train_test_split(X, y, train_size = 0.7, random_state = 42)"
   ]
  },
  {
   "cell_type": "code",
   "execution_count": 44,
   "metadata": {
    "collapsed": true
   },
   "outputs": [],
   "source": [
    "# import our algorithms\n",
    "from sklearn.linear_model import LogisticRegression\n",
    "from sklearn.ensemble import RandomForestClassifier, AdaBoostClassifier, GradientBoostingClassifier\n",
    "from sklearn.tree import DecisionTreeClassifier\n",
    "from sklearn.naive_bayes import GaussianNB\n",
    "from sklearn.metrics import accuracy_score\n"
   ]
  },
  {
   "cell_type": "code",
   "execution_count": 45,
   "metadata": {
    "collapsed": false
   },
   "outputs": [
    {
     "name": "stderr",
     "output_type": "stream",
     "text": [
      "C:\\Users\\Dennis\\Anaconda2\\lib\\site-packages\\sklearn\\utils\\validation.py:515: DataConversionWarning:\n",
      "\n",
      "A column-vector y was passed when a 1d array was expected. Please change the shape of y to (n_samples, ), for example using ravel().\n",
      "\n"
     ]
    },
    {
     "name": "stdout",
     "output_type": "stream",
     "text": [
      "0.725932840404\n"
     ]
    }
   ],
   "source": [
    "# sklearn Logistic Regression\n",
    "reg = LogisticRegression(fit_intercept = False, C = 1e9)\n",
    "logmodel = reg.fit(X_train, y_train)\n",
    "\n",
    "# Make predictions and determine accuracy score\n",
    "y_predlog = logmodel.predict(X_test)\n",
    "\n",
    "acclog = accuracy_score(y_predlog, y_test)\n",
    "\n",
    "print acclog"
   ]
  },
  {
   "cell_type": "code",
   "execution_count": 46,
   "metadata": {
    "collapsed": false
   },
   "outputs": [
    {
     "name": "stderr",
     "output_type": "stream",
     "text": [
      "C:\\Users\\Dennis\\Anaconda2\\lib\\site-packages\\sklearn\\utils\\validation.py:515: DataConversionWarning:\n",
      "\n",
      "A column-vector y was passed when a 1d array was expected. Please change the shape of y to (n_samples, ), for example using ravel().\n",
      "\n"
     ]
    },
    {
     "name": "stdout",
     "output_type": "stream",
     "text": [
      "0.736274533887\n"
     ]
    }
   ],
   "source": [
    "# Gradient Boosting\n",
    "params = {'n_estimators': 600, 'max_depth': 1,\n",
    "          'learning_rate': 0.1, 'min_samples_leaf': 1, 'random_state': 42}\n",
    "gbc = GradientBoostingClassifier(**params)\n",
    "gbcmodel = gbc.fit(X_train, y_train)\n",
    "\n",
    "y_predgbc = gbcmodel.predict(X_test)\n",
    "\n",
    "accgbc = accuracy_score(y_predgbc, y_test)\n",
    "\n",
    "print accgbc"
   ]
  },
  {
   "cell_type": "code",
   "execution_count": 47,
   "metadata": {
    "collapsed": false
   },
   "outputs": [
    {
     "name": "stderr",
     "output_type": "stream",
     "text": [
      "C:\\Users\\Dennis\\Anaconda2\\lib\\site-packages\\ipykernel\\__main__.py:3: DataConversionWarning:\n",
      "\n",
      "A column-vector y was passed when a 1d array was expected. Please change the shape of y to (n_samples,), for example using ravel().\n",
      "\n"
     ]
    },
    {
     "name": "stdout",
     "output_type": "stream",
     "text": [
      "0.725073079663\n"
     ]
    }
   ],
   "source": [
    "# Random Forest\n",
    "rf = RandomForestClassifier(n_estimators= 25, max_depth= None, max_features = 0.4, random_state = 42)\n",
    "rfmodel = rf.fit(X_train, y_train)\n",
    "\n",
    "y_predrf = rfmodel.predict(X_test)\n",
    "\n",
    "accrf = accuracy_score(y_predrf, y_test)\n",
    "\n",
    "print accrf"
   ]
  },
  {
   "cell_type": "code",
   "execution_count": null,
   "metadata": {
    "collapsed": true
   },
   "outputs": [],
   "source": []
  }
 ],
 "metadata": {
  "kernelspec": {
   "display_name": "Python 2",
   "language": "python",
   "name": "python2"
  },
  "language_info": {
   "codemirror_mode": {
    "name": "ipython",
    "version": 2
   },
   "file_extension": ".py",
   "mimetype": "text/x-python",
   "name": "python",
   "nbconvert_exporter": "python",
   "pygments_lexer": "ipython2",
   "version": "2.7.12"
  }
 },
 "nbformat": 4,
 "nbformat_minor": 1
}
